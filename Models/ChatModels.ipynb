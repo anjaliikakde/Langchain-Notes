{
 "cells": [
  {
   "cell_type": "markdown",
   "id": "3490f060",
   "metadata": {},
   "source": [
    "# Chat Model\n",
    "### This is a specialized LLM that is an expert at having conversations. It's designed to be good at back-and-forth dialogue, remembering what you've talked about to have a natural chat."
   ]
  },
  {
   "cell_type": "markdown",
   "id": "d49bc69c",
   "metadata": {},
   "source": [
    "## OpenAI"
   ]
  },
  {
   "cell_type": "code",
   "execution_count": 1,
   "id": "33e98ee6",
   "metadata": {},
   "outputs": [
    {
     "name": "stdout",
     "output_type": "stream",
     "text": [
      "content=\"A large language model is a type of artificial intelligence model that has been trained on a vast amount of text data. It is designed to generate human-like text based on the input it receives. These models, such as GPT-3 by OpenAI, can understand and generate text in a way that is remarkably similar to how a human would. They can answer questions, write essays, summarize texts, translate languages, and even generate creative content like poems or stories. However, they don't understand text in the same way humans do and their responses are generated based on patterns they've learned during training.\" additional_kwargs={'refusal': None} response_metadata={'token_usage': {'completion_tokens': 120, 'prompt_tokens': 13, 'total_tokens': 133, 'completion_tokens_details': {'accepted_prediction_tokens': 0, 'audio_tokens': 0, 'reasoning_tokens': 0, 'rejected_prediction_tokens': 0}, 'prompt_tokens_details': {'audio_tokens': 0, 'cached_tokens': 0}}, 'model_name': 'gpt-4-0613', 'system_fingerprint': None, 'id': 'chatcmpl-BvnX1CDeRsRrQ6TuylMdUVoI8ppC3', 'service_tier': 'default', 'finish_reason': 'stop', 'logprobs': None} id='run--105eb91c-a9ed-481c-a4ec-3d82a9438e79-0' usage_metadata={'input_tokens': 13, 'output_tokens': 120, 'total_tokens': 133, 'input_token_details': {'audio': 0, 'cache_read': 0}, 'output_token_details': {'audio': 0, 'reasoning': 0}}\n"
     ]
    }
   ],
   "source": [
    "from langchain_openai import ChatOpenAI\n",
    "from dotenv import load_dotenv\n",
    "\n",
    "load_dotenv()\n",
    "\n",
    "model = ChatOpenAI(model='gpt-4', temperature=0.1, max_tokens=1000)\n",
    "\n",
    "result = model.invoke(\"What is Large language model?\")\n",
    "\n",
    "print(result)"
   ]
  },
  {
   "cell_type": "code",
   "execution_count": 2,
   "id": "59525bd1",
   "metadata": {},
   "outputs": [
    {
     "name": "stdout",
     "output_type": "stream",
     "text": [
      "A large language model is a type of artificial intelligence model that has been trained on a vast amount of text data. It is designed to generate human-like text based on the input it receives. These models, such as GPT-3 by OpenAI, can understand and generate text in a way that is remarkably similar to how a human would. They can answer questions, write essays, summarize texts, translate languages, and even generate creative content like poems or stories. However, they don't understand text in the same way humans do and their responses are generated based on patterns they've learned during training.\n"
     ]
    }
   ],
   "source": [
    "print(result.content)"
   ]
  },
  {
   "cell_type": "markdown",
   "id": "1b287305",
   "metadata": {},
   "source": [
    "## Anthropic"
   ]
  },
  {
   "cell_type": "code",
   "execution_count": 5,
   "id": "531bd19e",
   "metadata": {},
   "outputs": [],
   "source": [
    "# To run Anthropic models\n",
    "# from langchain_anthropic import ChatAnthropic\n",
    "# from dotenv import load_dotenv\n",
    "# load_dotenv()\n",
    "# model = ChatAnthropic(modael='claude-2', temperature=0.1, max_tokens=1000)\n",
    "# result = model.invoke(\"What is Large language model?\")\n",
    "# print(result.content)"
   ]
  },
  {
   "cell_type": "markdown",
   "id": "82d9a2d1",
   "metadata": {},
   "source": [
    "## Gemini"
   ]
  },
  {
   "cell_type": "code",
   "execution_count": 4,
   "id": "1fbdb328",
   "metadata": {},
   "outputs": [
    {
     "name": "stderr",
     "output_type": "stream",
     "text": [
      "e:\\GenAI Langchain\\venv\\Lib\\site-packages\\tqdm\\auto.py:21: TqdmWarning: IProgress not found. Please update jupyter and ipywidgets. See https://ipywidgets.readthedocs.io/en/stable/user_install.html\n",
      "  from .autonotebook import tqdm as notebook_tqdm\n"
     ]
    },
    {
     "name": "stdout",
     "output_type": "stream",
     "text": [
      "A Large Language Model (LLM) is a type of artificial intelligence (AI) that can understand and generate human-like text.  It's \"large\" because it's trained on a massive dataset of text and code, often containing trillions of words. This massive dataset allows the model to learn patterns, relationships, and nuances in language, enabling it to perform a wide range of tasks.\n",
      "\n",
      "Here's a breakdown of key aspects:\n",
      "\n",
      "* **Massive Dataset:**  The training data is crucial.  The more data, the better the model's understanding of language and its ability to generate coherent and relevant text.  This data includes books, articles, code, websites, and more.\n",
      "\n",
      "* **Neural Networks:** LLMs are built using deep learning techniques, specifically neural networks with many layers (hence \"deep learning\"). These networks are designed to identify patterns and relationships within the data.\n",
      "\n",
      "* **Transformer Architecture:** Most modern LLMs utilize the transformer architecture. This architecture is particularly effective at processing sequential data like text, allowing the model to understand context and relationships between words in a sentence or paragraph.\n",
      "\n",
      "* **Predictive Capabilities:**  At its core, an LLM predicts the next word in a sequence.  This seemingly simple task, when combined with the massive dataset and sophisticated architecture, allows for complex tasks like translation, summarization, question answering, and even creative writing.\n",
      "\n",
      "* **Transfer Learning:**  LLMs are often fine-tuned for specific tasks after initial training. This process, called transfer learning, allows the model to adapt its knowledge to a particular application, such as medical diagnosis or legal document review.\n",
      "\n",
      "In short, an LLM is a powerful tool that can understand and generate human-like text by leveraging massive datasets and sophisticated neural network architectures.  Examples include models like GPT-3, LaMDA, and PaLM.  However, it's important to remember that while they are impressive, they are not sentient and their outputs should be critically evaluated.\n"
     ]
    }
   ],
   "source": [
    "from langchain_google_genai import ChatGoogleGenerativeAI\n",
    "from dotenv import load_dotenv\n",
    "import os\n",
    "\n",
    "load_dotenv()\n",
    "\n",
    "api_key = os.getenv(\"GOOGLE_API_KEY\")\n",
    "\n",
    "model = ChatGoogleGenerativeAI(\n",
    "    model=\"gemini-1.5-flash\",  \n",
    "    temperature=0.1,\n",
    "    max_tokens=1000,\n",
    "    google_api_key=api_key \n",
    ")\n",
    "\n",
    "result = model.invoke(\"What is a Large Language Model?\")\n",
    "\n",
    "print(result.content)\n"
   ]
  },
  {
   "cell_type": "markdown",
   "id": "c5ba90b1",
   "metadata": {},
   "source": [
    "## Coher API"
   ]
  },
  {
   "cell_type": "code",
   "execution_count": 6,
   "id": "9ba14cc4",
   "metadata": {},
   "outputs": [
    {
     "name": "stdout",
     "output_type": "stream",
     "text": [
      "A large language model is a type of artificial neural network that has been trained on massive amounts of text data, typically in the range of billions or even trillions of words. These models are designed to generate and understand human language, and they have a wide range of applications in natural language processing tasks such as language translation, text summarization, sentiment analysis, and more.\n",
      "\n",
      "Some examples of large language models include:\n",
      "\n",
      "- GPT-3 (Generative Pre-trained Transformer 3): Developed by OpenAI, GPT-3 is a language model that can generate human-like text based on a prompt. It has a wide range of applications, including language translation, text completion, and question-answering.\n",
      "- BERT (Bidirectional Encoder Representations from Transformers): Developed by Google, BERT is a language model that is particularly good at understanding the context and relationships between words in a sentence. It is often used for natural language understanding tasks such as question answering and sentiment analysis.\n",
      "- T5 (Text-to-Text Transfer Transformer): Developed by Google, T5 is a language model that frames all natural language processing tasks as a text-to-text problem, where the input is a text prompt and the output is also text. T5 has been trained on a massive amount of data and can perform a wide range of tasks, including translation, summarization, and data extraction.\n",
      "\n",
      "These large language models have revolutionized the field of natural language processing and have enabled machines to understand and generate human language in increasingly sophisticated ways. They have a wide range of applications in fields such as language translation, customer service, content generation, and more.\n"
     ]
    }
   ],
   "source": [
    "import cohere\n",
    "from dotenv import load_dotenv\n",
    "import os\n",
    "\n",
    "load_dotenv()\n",
    "api_key = os.getenv(\"COHERE_API_KEY\")\n",
    "\n",
    "co = cohere.Client(api_key)\n",
    "\n",
    "response = co.chat(\n",
    "    message=\"What is a large language model?\",\n",
    "    temperature=0.3,\n",
    "    chat_history=[],\n",
    "    model=\"command-r-plus\"  # or command-r\n",
    ")\n",
    "\n",
    "print(response.text)\n"
   ]
  },
  {
   "cell_type": "markdown",
   "id": "820ead65",
   "metadata": {},
   "source": [
    "## Hugging Face Inference API \n",
    "## Open source model's access "
   ]
  },
  {
   "cell_type": "code",
   "execution_count": null,
   "id": "640d92a4",
   "metadata": {},
   "outputs": [],
   "source": []
  },
  {
   "cell_type": "code",
   "execution_count": null,
   "id": "f569d2f7",
   "metadata": {},
   "outputs": [],
   "source": []
  }
 ],
 "metadata": {
  "kernelspec": {
   "display_name": "venv",
   "language": "python",
   "name": "python3"
  },
  "language_info": {
   "codemirror_mode": {
    "name": "ipython",
    "version": 3
   },
   "file_extension": ".py",
   "mimetype": "text/x-python",
   "name": "python",
   "nbconvert_exporter": "python",
   "pygments_lexer": "ipython3",
   "version": "3.13.1"
  }
 },
 "nbformat": 4,
 "nbformat_minor": 5
}
