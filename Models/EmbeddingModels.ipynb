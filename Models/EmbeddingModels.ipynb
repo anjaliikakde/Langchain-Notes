{
 "cells": [
  {
   "cell_type": "markdown",
   "id": "c376c10a",
   "metadata": {},
   "source": [
    "# Embedding Model\n",
    "### This model turns words and sentences into numbers (vectors). It's used to help computers understand the meaning and relationship between different pieces of text, which is great for tasks like search and recommendation."
   ]
  },
  {
   "cell_type": "code",
   "execution_count": null,
   "id": "20eb93ba",
   "metadata": {},
   "outputs": [],
   "source": []
  }
 ],
 "metadata": {
  "kernelspec": {
   "display_name": "venv",
   "language": "python",
   "name": "python3"
  },
  "language_info": {
   "name": "python",
   "version": "3.13.1"
  }
 },
 "nbformat": 4,
 "nbformat_minor": 5
}
