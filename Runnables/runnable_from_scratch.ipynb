{
 "cells": [
  {
   "cell_type": "code",
   "execution_count": 409,
   "id": "d6c6229b",
   "metadata": {},
   "outputs": [],
   "source": [
    "import random"
   ]
  },
  {
   "cell_type": "code",
   "execution_count": 410,
   "id": "05735091",
   "metadata": {},
   "outputs": [],
   "source": [
    "class NakliLLM:\n",
    "    \n",
    "    def __init__(self):\n",
    "        print('LLM created')\n",
    "        \n",
    "    def predict(self, prompt):\n",
    "        \n",
    "        response_list = [\n",
    "            'Delhi is the capital of India .',\n",
    "            'AI stands for Artificial Intelligence.',\n",
    "            'IPL is the cricket league.'\n",
    "        ]\n",
    "        \n",
    "        return {'response': random.choice(response_list)}"
   ]
  },
  {
   "cell_type": "code",
   "execution_count": 411,
   "id": "7fc9ede5",
   "metadata": {},
   "outputs": [
    {
     "name": "stdout",
     "output_type": "stream",
     "text": [
      "LLM created\n"
     ]
    }
   ],
   "source": [
    "llm = NakliLLM()"
   ]
  },
  {
   "cell_type": "code",
   "execution_count": 412,
   "id": "968cf88b",
   "metadata": {},
   "outputs": [
    {
     "data": {
      "text/plain": [
       "{'response': 'AI stands for Artificial Intelligence.'}"
      ]
     },
     "execution_count": 412,
     "metadata": {},
     "output_type": "execute_result"
    }
   ],
   "source": [
    "llm.predict('What is the capital of India?')"
   ]
  },
  {
   "cell_type": "code",
   "execution_count": 413,
   "id": "c31f97dd",
   "metadata": {},
   "outputs": [],
   "source": [
    "class NakliPromptTemplate:\n",
    "    \n",
    "    def __init__(self, template, input_variables):\n",
    "        self.template = template\n",
    "        self.input_variables = input_variables\n",
    "    \n",
    "    def Format(self, input_dict):\n",
    "        return self.template.format(**input_dict)\n",
    "    "
   ]
  },
  {
   "cell_type": "code",
   "execution_count": 414,
   "id": "ecf08249",
   "metadata": {},
   "outputs": [],
   "source": [
    "template = NakliPromptTemplate(\n",
    "    template='Write a poem about {topic}',\n",
    "    input_variables=['topic']\n",
    ")"
   ]
  },
  {
   "cell_type": "code",
   "execution_count": 415,
   "id": "aa11c29b",
   "metadata": {},
   "outputs": [],
   "source": [
    "prompt = template.Format({'topic':'India'})"
   ]
  },
  {
   "cell_type": "code",
   "execution_count": 416,
   "id": "baa66ddc",
   "metadata": {},
   "outputs": [
    {
     "data": {
      "text/plain": [
       "'Write a poem about India'"
      ]
     },
     "execution_count": 416,
     "metadata": {},
     "output_type": "execute_result"
    }
   ],
   "source": [
    "prompt"
   ]
  },
  {
   "cell_type": "code",
   "execution_count": 417,
   "id": "5b20af5c",
   "metadata": {},
   "outputs": [
    {
     "data": {
      "text/plain": [
       "{'response': 'AI stands for Artificial Intelligence.'}"
      ]
     },
     "execution_count": 417,
     "metadata": {},
     "output_type": "execute_result"
    }
   ],
   "source": [
    "llm.predict(prompt)"
   ]
  },
  {
   "cell_type": "code",
   "execution_count": 418,
   "id": "c8dcfd92",
   "metadata": {},
   "outputs": [],
   "source": [
    "class NakliLLMChain:\n",
    "    def __init__(self, llm, prompt):\n",
    "        self.llm = llm\n",
    "        self.prompt = prompt\n",
    "        \n",
    "    def run(self, input_dict):\n",
    "        final_prompt =self.prompt.Format(input_dict)\n",
    "        result = self.llm.predict(final_prompt)\n",
    "        \n",
    "        return result['response']"
   ]
  },
  {
   "cell_type": "code",
   "execution_count": 419,
   "id": "956236ec",
   "metadata": {},
   "outputs": [],
   "source": [
    "template = NakliPromptTemplate(\n",
    "    template='Write a poem about {topic}',\n",
    "    input_variables=['length','topic']\n",
    ")\n"
   ]
  },
  {
   "cell_type": "code",
   "execution_count": 420,
   "id": "3ff071c3",
   "metadata": {},
   "outputs": [
    {
     "name": "stdout",
     "output_type": "stream",
     "text": [
      "LLM created\n"
     ]
    }
   ],
   "source": [
    "llm = NakliLLM()\n"
   ]
  },
  {
   "cell_type": "code",
   "execution_count": 421,
   "id": "23ee6229",
   "metadata": {},
   "outputs": [],
   "source": [
    "chain = NakliLLMChain(llm, template)"
   ]
  },
  {
   "cell_type": "code",
   "execution_count": 422,
   "id": "876e21a9",
   "metadata": {},
   "outputs": [
    {
     "data": {
      "text/plain": [
       "'IPL is the cricket league.'"
      ]
     },
     "execution_count": 422,
     "metadata": {},
     "output_type": "execute_result"
    }
   ],
   "source": [
    "chain.run({'length':'Short', 'topic':'India'})"
   ]
  },
  {
   "cell_type": "code",
   "execution_count": 423,
   "id": "8b48d7d2",
   "metadata": {},
   "outputs": [],
   "source": [
    "## The above code is not standardized. So here comes the need of Runnables."
   ]
  },
  {
   "cell_type": "code",
   "execution_count": 424,
   "id": "a98a33c6",
   "metadata": {},
   "outputs": [],
   "source": [
    "from abc import ABC, abstractmethod"
   ]
  },
  {
   "cell_type": "code",
   "execution_count": 425,
   "id": "e0fd0754",
   "metadata": {},
   "outputs": [],
   "source": [
    "class Runnable(ABC):\n",
    "    @abstractmethod\n",
    "    def invoke(input_data):\n",
    "        pass"
   ]
  },
  {
   "cell_type": "code",
   "execution_count": 426,
   "id": "9ccf9b50",
   "metadata": {},
   "outputs": [],
   "source": [
    "class NakliLLM(Runnable):\n",
    "    \n",
    "    def __init__(self):\n",
    "        print('LLM created')\n",
    "        \n",
    "    def predict(self, prompt):\n",
    "        \n",
    "        response_list = [\n",
    "            'Delhi is the capital of India .',\n",
    "            'AI stands for Artificial Intelligence.',\n",
    "            'IPL is the cricket league.'\n",
    "        ]\n",
    "        \n",
    "        return {'response': random.choice(response_list)}"
   ]
  },
  {
   "cell_type": "code",
   "execution_count": 427,
   "id": "c13b7445",
   "metadata": {},
   "outputs": [
    {
     "ename": "TypeError",
     "evalue": "Can't instantiate abstract class NakliLLM without an implementation for abstract method 'invoke'",
     "output_type": "error",
     "traceback": [
      "\u001b[31m---------------------------------------------------------------------------\u001b[39m",
      "\u001b[31mTypeError\u001b[39m                                 Traceback (most recent call last)",
      "\u001b[36mCell\u001b[39m\u001b[36m \u001b[39m\u001b[32mIn[427]\u001b[39m\u001b[32m, line 1\u001b[39m\n\u001b[32m----> \u001b[39m\u001b[32m1\u001b[39m llm = \u001b[43mNakliLLM\u001b[49m\u001b[43m(\u001b[49m\u001b[43m)\u001b[49m\n",
      "\u001b[31mTypeError\u001b[39m: Can't instantiate abstract class NakliLLM without an implementation for abstract method 'invoke'"
     ]
    }
   ],
   "source": [
    "llm = NakliLLM()"
   ]
  },
  {
   "cell_type": "code",
   "execution_count": null,
   "id": "0e90fcae",
   "metadata": {},
   "outputs": [],
   "source": [
    "# To remove this error we need to implement invoke fuction.\n",
    "# This way runnables follows same interface or standard."
   ]
  },
  {
   "cell_type": "code",
   "execution_count": null,
   "id": "df773412",
   "metadata": {},
   "outputs": [],
   "source": [
    "import random  # Required for random.choice()\n",
    "\n",
    "# Simulated base class for structure (optional)\n",
    "class Runnable:\n",
    "    def invoke(self, input_data):\n",
    "        raise NotImplementedError\n",
    "\n",
    "# Prompt Template class\n",
    "class NakliPromptTemplate(Runnable):\n",
    "    \n",
    "    def __init__(self, template, input_variables):\n",
    "        self.template = template\n",
    "        self.input_variables = input_variables\n",
    "\n",
    "    def format(self, input_dict):\n",
    "        return self.template.format(**input_dict)\n",
    "    \n",
    "    def invoke(self, input_dict):\n",
    "        return self.format(input_dict)\n",
    "\n",
    "# Mock LLM class\n",
    "class NakliLLM1(Runnable):\n",
    "    \n",
    "    def __init__(self):\n",
    "        print('LLM created')\n",
    "        \n",
    "    def invoke(self, prompt):\n",
    "        response_list = [\n",
    "            'Delhi is the capital of India.',\n",
    "            'AI stands for Artificial Intelligence.',\n",
    "            'IPL is the cricket league.'\n",
    "        ]\n",
    "        return {'response': random.choice(response_list)}\n",
    "\n",
    "    def predict(self, prompt):\n",
    "        return {'response': 'This method is going to be deprecated.'}\n",
    "\n",
    "class RunnableConnector:\n",
    "    \n",
    "    def __init__(self, runnable_list):\n",
    "        self.runnable_list = runnable_list  # List of components with .invoke()\n",
    "\n",
    "    def invoke(self, input_data):\n",
    "        current_output = input_data\n",
    "        for runnable in self.runnable_list:\n",
    "            current_output = runnable.invoke(current_output)\n",
    "        return current_output\n",
    "\n"
   ]
  },
  {
   "cell_type": "code",
   "execution_count": null,
   "id": "5aacb3c4",
   "metadata": {},
   "outputs": [],
   "source": [
    "template = NakliPromptTemplate(\n",
    "    template='Write a poem about {topic}',\n",
    "    input_variables=['length','topic']\n",
    ")\n"
   ]
  },
  {
   "cell_type": "code",
   "execution_count": null,
   "id": "c3fb3399",
   "metadata": {},
   "outputs": [
    {
     "name": "stdout",
     "output_type": "stream",
     "text": [
      "LLM created\n"
     ]
    }
   ],
   "source": [
    "llm = NakliLLM1()"
   ]
  },
  {
   "cell_type": "code",
   "execution_count": null,
   "id": "74a859df",
   "metadata": {},
   "outputs": [],
   "source": [
    "chain = RunnableConnector([template, llm])"
   ]
  },
  {
   "cell_type": "code",
   "execution_count": null,
   "id": "707aec37",
   "metadata": {},
   "outputs": [
    {
     "data": {
      "text/plain": [
       "{'response': 'Delhi is the capital of India.'}"
      ]
     },
     "execution_count": 408,
     "metadata": {},
     "output_type": "execute_result"
    }
   ],
   "source": [
    "chain.invoke({'length':'Short', 'topic':'India'})"
   ]
  },
  {
   "cell_type": "code",
   "execution_count": null,
   "id": "030c9053",
   "metadata": {},
   "outputs": [],
   "source": []
  }
 ],
 "metadata": {
  "kernelspec": {
   "display_name": "venv (3.13.1)",
   "language": "python",
   "name": "python3"
  },
  "language_info": {
   "codemirror_mode": {
    "name": "ipython",
    "version": 3
   },
   "file_extension": ".py",
   "mimetype": "text/x-python",
   "name": "python",
   "nbconvert_exporter": "python",
   "pygments_lexer": "ipython3",
   "version": "3.13.1"
  }
 },
 "nbformat": 4,
 "nbformat_minor": 5
}
