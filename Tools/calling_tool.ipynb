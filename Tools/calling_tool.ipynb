{
 "cells": [
  {
   "cell_type": "code",
   "execution_count": 57,
   "id": "1c4af033",
   "metadata": {},
   "outputs": [
    {
     "data": {
      "text/plain": [
       "True"
      ]
     },
     "execution_count": 57,
     "metadata": {},
     "output_type": "execute_result"
    }
   ],
   "source": [
    "from langchain_openai import ChatOpenAI\n",
    "from langchain_core.tools import tool\n",
    "from langchain_core.messages import HumanMessage\n",
    "import requests\n",
    "from dotenv import load_dotenv\n",
    "load_dotenv()\n"
   ]
  },
  {
   "cell_type": "code",
   "execution_count": 58,
   "id": "7367d433",
   "metadata": {},
   "outputs": [],
   "source": [
    "# tool create \n",
    "\n",
    "@tool\n",
    "def multiply(a:int, b:int)-> int:\n",
    "    \"\"\"Given two numbers a and b this tool returns their product\"\"\"\n",
    "    return a*b"
   ]
  },
  {
   "cell_type": "code",
   "execution_count": 59,
   "id": "147195fe",
   "metadata": {},
   "outputs": [
    {
     "name": "stdout",
     "output_type": "stream",
     "text": [
      "20\n"
     ]
    }
   ],
   "source": [
    "print(multiply.invoke({'a':10,'b':2}))"
   ]
  },
  {
   "cell_type": "code",
   "execution_count": 60,
   "id": "60262a1f",
   "metadata": {},
   "outputs": [
    {
     "data": {
      "text/plain": [
       "'multiply'"
      ]
     },
     "execution_count": 60,
     "metadata": {},
     "output_type": "execute_result"
    }
   ],
   "source": [
    "multiply.name"
   ]
  },
  {
   "cell_type": "code",
   "execution_count": 61,
   "id": "aad7f0d1",
   "metadata": {},
   "outputs": [
    {
     "data": {
      "text/plain": [
       "'Given two numbers a and b this tool returns their product'"
      ]
     },
     "execution_count": 61,
     "metadata": {},
     "output_type": "execute_result"
    }
   ],
   "source": [
    "multiply.description"
   ]
  },
  {
   "cell_type": "code",
   "execution_count": 62,
   "id": "c4f42f21",
   "metadata": {},
   "outputs": [
    {
     "data": {
      "text/plain": [
       "{'a': {'title': 'A', 'type': 'integer'},\n",
       " 'b': {'title': 'B', 'type': 'integer'}}"
      ]
     },
     "execution_count": 62,
     "metadata": {},
     "output_type": "execute_result"
    }
   ],
   "source": [
    "multiply.args"
   ]
  },
  {
   "cell_type": "code",
   "execution_count": 63,
   "id": "97cfd2b2",
   "metadata": {},
   "outputs": [],
   "source": [
    "# Tool binding"
   ]
  },
  {
   "cell_type": "code",
   "execution_count": 64,
   "id": "65d6ca97",
   "metadata": {},
   "outputs": [],
   "source": [
    "llm = ChatOpenAI()"
   ]
  },
  {
   "cell_type": "code",
   "execution_count": 65,
   "id": "882a6442",
   "metadata": {},
   "outputs": [],
   "source": [
    "llm_with_tools = llm.bind_tools([multiply])"
   ]
  },
  {
   "cell_type": "code",
   "execution_count": 66,
   "id": "b37cfe44",
   "metadata": {},
   "outputs": [],
   "source": [
    "# Not every llm have the capacity to bind a tool"
   ]
  },
  {
   "cell_type": "code",
   "execution_count": 67,
   "id": "b73e19f3",
   "metadata": {},
   "outputs": [
    {
     "data": {
      "text/plain": [
       "AIMessage(content=\"I'm a language model AI, so I don't have feelings, but I'm here to help you with any questions or tasks you have. How can I assist you today?\", additional_kwargs={'refusal': None}, response_metadata={'token_usage': {'completion_tokens': 37, 'prompt_tokens': 58, 'total_tokens': 95, 'completion_tokens_details': {'accepted_prediction_tokens': 0, 'audio_tokens': 0, 'reasoning_tokens': 0, 'rejected_prediction_tokens': 0}, 'prompt_tokens_details': {'audio_tokens': 0, 'cached_tokens': 0}}, 'model_name': 'gpt-3.5-turbo-0125', 'system_fingerprint': None, 'id': 'chatcmpl-Bxrr7VJD44N6cBjxrhG1fcoAPiFoa', 'service_tier': 'default', 'finish_reason': 'stop', 'logprobs': None}, id='run--0c10ba52-f0b2-4067-afc6-41003cf71e61-0', usage_metadata={'input_tokens': 58, 'output_tokens': 37, 'total_tokens': 95, 'input_token_details': {'audio': 0, 'cache_read': 0}, 'output_token_details': {'audio': 0, 'reasoning': 0}})"
      ]
     },
     "execution_count": 67,
     "metadata": {},
     "output_type": "execute_result"
    }
   ],
   "source": [
    "llm_with_tools.invoke('Hi how are you?')"
   ]
  },
  {
   "cell_type": "code",
   "execution_count": 68,
   "id": "72811e08",
   "metadata": {},
   "outputs": [],
   "source": [
    "query = HumanMessage('can you multiply 3 with 10?')"
   ]
  },
  {
   "cell_type": "code",
   "execution_count": 69,
   "id": "25bfc733",
   "metadata": {},
   "outputs": [],
   "source": [
    "message = [query]"
   ]
  },
  {
   "cell_type": "code",
   "execution_count": 70,
   "id": "e6961334",
   "metadata": {},
   "outputs": [
    {
     "data": {
      "text/plain": [
       "[HumanMessage(content='can you multiply 3 with 10?', additional_kwargs={}, response_metadata={})]"
      ]
     },
     "execution_count": 70,
     "metadata": {},
     "output_type": "execute_result"
    }
   ],
   "source": [
    "message"
   ]
  },
  {
   "cell_type": "code",
   "execution_count": 71,
   "id": "609dbd08",
   "metadata": {},
   "outputs": [
    {
     "data": {
      "text/plain": [
       "AIMessage(content='', additional_kwargs={'tool_calls': [{'id': 'call_D7CfWIJmaGisJ5KLOqn60t5k', 'function': {'arguments': '{\"a\":2,\"b\":10}', 'name': 'multiply'}, 'type': 'function'}], 'refusal': None}, response_metadata={'token_usage': {'completion_tokens': 17, 'prompt_tokens': 62, 'total_tokens': 79, 'completion_tokens_details': {'accepted_prediction_tokens': 0, 'audio_tokens': 0, 'reasoning_tokens': 0, 'rejected_prediction_tokens': 0}, 'prompt_tokens_details': {'audio_tokens': 0, 'cached_tokens': 0}}, 'model_name': 'gpt-3.5-turbo-0125', 'system_fingerprint': None, 'id': 'chatcmpl-Bxrr8ptXvHK7EXs27ccRs1wfLQl7I', 'service_tier': 'default', 'finish_reason': 'tool_calls', 'logprobs': None}, id='run--643c7d5c-71af-453d-a5c3-bbd8e496dd4e-0', tool_calls=[{'name': 'multiply', 'args': {'a': 2, 'b': 10}, 'id': 'call_D7CfWIJmaGisJ5KLOqn60t5k', 'type': 'tool_call'}], usage_metadata={'input_tokens': 62, 'output_tokens': 17, 'total_tokens': 79, 'input_token_details': {'audio': 0, 'cache_read': 0}, 'output_token_details': {'audio': 0, 'reasoning': 0}})"
      ]
     },
     "execution_count": 71,
     "metadata": {},
     "output_type": "execute_result"
    }
   ],
   "source": [
    "llm_with_tools.invoke('Can you multiply 2 with 10?')"
   ]
  },
  {
   "cell_type": "code",
   "execution_count": 72,
   "id": "fa5341c1",
   "metadata": {},
   "outputs": [
    {
     "data": {
      "text/plain": [
       "[{'name': 'multiply',\n",
       "  'args': {'a': 2, 'b': 10},\n",
       "  'id': 'call_vcQjLVnE4oYAXT7sWcT4XZli',\n",
       "  'type': 'tool_call'}]"
      ]
     },
     "execution_count": 72,
     "metadata": {},
     "output_type": "execute_result"
    }
   ],
   "source": [
    "llm_with_tools.invoke('Can you multiply 2 with 10?').tool_calls"
   ]
  },
  {
   "cell_type": "code",
   "execution_count": 73,
   "id": "af190d6c",
   "metadata": {},
   "outputs": [
    {
     "data": {
      "text/plain": [
       "{'name': 'multiply',\n",
       " 'args': {'a': 2, 'b': 10},\n",
       " 'id': 'call_nlG6GvrcXd7WF0zusyrOyyiI',\n",
       " 'type': 'tool_call'}"
      ]
     },
     "execution_count": 73,
     "metadata": {},
     "output_type": "execute_result"
    }
   ],
   "source": [
    "llm_with_tools.invoke('Can you multiply 2 with 10?').tool_calls[0]"
   ]
  },
  {
   "cell_type": "code",
   "execution_count": 74,
   "id": "26c65f70",
   "metadata": {},
   "outputs": [],
   "source": [
    "result = llm_with_tools.invoke('Can you multiply 2 with 10?')"
   ]
  },
  {
   "cell_type": "code",
   "execution_count": 75,
   "id": "cc020f6a",
   "metadata": {},
   "outputs": [
    {
     "data": {
      "text/plain": [
       "{'name': 'multiply',\n",
       " 'args': {'a': 2, 'b': 10},\n",
       " 'id': 'call_6Wh1MEmRGasgLMp357nv1VKn',\n",
       " 'type': 'tool_call'}"
      ]
     },
     "execution_count": 75,
     "metadata": {},
     "output_type": "execute_result"
    }
   ],
   "source": [
    "result.tool_calls[0]"
   ]
  },
  {
   "cell_type": "code",
   "execution_count": 76,
   "id": "cfd76f5b",
   "metadata": {},
   "outputs": [
    {
     "data": {
      "text/plain": [
       "{'a': 2, 'b': 10}"
      ]
     },
     "execution_count": 76,
     "metadata": {},
     "output_type": "execute_result"
    }
   ],
   "source": [
    "result.tool_calls[0]['args']"
   ]
  },
  {
   "cell_type": "code",
   "execution_count": 77,
   "id": "e1699a07",
   "metadata": {},
   "outputs": [
    {
     "data": {
      "text/plain": [
       "ToolMessage(content='20', name='multiply', tool_call_id='call_6ygAyj4SiTXjRFZTNtMctIrs')"
      ]
     },
     "execution_count": 77,
     "metadata": {},
     "output_type": "execute_result"
    }
   ],
   "source": [
    "multiply.invoke({'name': 'multiply',\n",
    " 'args': {'a': 2, 'b': 10},\n",
    " 'id': 'call_6ygAyj4SiTXjRFZTNtMctIrs',\n",
    " 'type': 'tool_call'})"
   ]
  },
  {
   "cell_type": "code",
   "execution_count": 78,
   "id": "5d4cef87",
   "metadata": {},
   "outputs": [],
   "source": [
    "message.append(result)"
   ]
  },
  {
   "cell_type": "code",
   "execution_count": 79,
   "id": "a2446139",
   "metadata": {},
   "outputs": [
    {
     "data": {
      "text/plain": [
       "[HumanMessage(content='can you multiply 3 with 10?', additional_kwargs={}, response_metadata={}),\n",
       " AIMessage(content='', additional_kwargs={'tool_calls': [{'id': 'call_6Wh1MEmRGasgLMp357nv1VKn', 'function': {'arguments': '{\"a\":2,\"b\":10}', 'name': 'multiply'}, 'type': 'function'}], 'refusal': None}, response_metadata={'token_usage': {'completion_tokens': 17, 'prompt_tokens': 62, 'total_tokens': 79, 'completion_tokens_details': {'accepted_prediction_tokens': 0, 'audio_tokens': 0, 'reasoning_tokens': 0, 'rejected_prediction_tokens': 0}, 'prompt_tokens_details': {'audio_tokens': 0, 'cached_tokens': 0}}, 'model_name': 'gpt-3.5-turbo-0125', 'system_fingerprint': None, 'id': 'chatcmpl-BxrrBcUh2tBeepLdHxHEzJYmlIpSG', 'service_tier': 'default', 'finish_reason': 'tool_calls', 'logprobs': None}, id='run--efc569a2-8258-41b9-b909-94e4325b83b8-0', tool_calls=[{'name': 'multiply', 'args': {'a': 2, 'b': 10}, 'id': 'call_6Wh1MEmRGasgLMp357nv1VKn', 'type': 'tool_call'}], usage_metadata={'input_tokens': 62, 'output_tokens': 17, 'total_tokens': 79, 'input_token_details': {'audio': 0, 'cache_read': 0}, 'output_token_details': {'audio': 0, 'reasoning': 0}})]"
      ]
     },
     "execution_count": 79,
     "metadata": {},
     "output_type": "execute_result"
    }
   ],
   "source": [
    "message"
   ]
  },
  {
   "cell_type": "code",
   "execution_count": 80,
   "id": "4aeff3c9",
   "metadata": {},
   "outputs": [],
   "source": [
    "tool_result = multiply.invoke(result.tool_calls[0])"
   ]
  },
  {
   "cell_type": "code",
   "execution_count": 81,
   "id": "197fc072",
   "metadata": {},
   "outputs": [],
   "source": [
    "message.append(tool_result)"
   ]
  },
  {
   "cell_type": "code",
   "execution_count": 82,
   "id": "48eba521",
   "metadata": {},
   "outputs": [
    {
     "data": {
      "text/plain": [
       "[HumanMessage(content='can you multiply 3 with 10?', additional_kwargs={}, response_metadata={}),\n",
       " AIMessage(content='', additional_kwargs={'tool_calls': [{'id': 'call_6Wh1MEmRGasgLMp357nv1VKn', 'function': {'arguments': '{\"a\":2,\"b\":10}', 'name': 'multiply'}, 'type': 'function'}], 'refusal': None}, response_metadata={'token_usage': {'completion_tokens': 17, 'prompt_tokens': 62, 'total_tokens': 79, 'completion_tokens_details': {'accepted_prediction_tokens': 0, 'audio_tokens': 0, 'reasoning_tokens': 0, 'rejected_prediction_tokens': 0}, 'prompt_tokens_details': {'audio_tokens': 0, 'cached_tokens': 0}}, 'model_name': 'gpt-3.5-turbo-0125', 'system_fingerprint': None, 'id': 'chatcmpl-BxrrBcUh2tBeepLdHxHEzJYmlIpSG', 'service_tier': 'default', 'finish_reason': 'tool_calls', 'logprobs': None}, id='run--efc569a2-8258-41b9-b909-94e4325b83b8-0', tool_calls=[{'name': 'multiply', 'args': {'a': 2, 'b': 10}, 'id': 'call_6Wh1MEmRGasgLMp357nv1VKn', 'type': 'tool_call'}], usage_metadata={'input_tokens': 62, 'output_tokens': 17, 'total_tokens': 79, 'input_token_details': {'audio': 0, 'cache_read': 0}, 'output_token_details': {'audio': 0, 'reasoning': 0}}),\n",
       " ToolMessage(content='20', name='multiply', tool_call_id='call_6Wh1MEmRGasgLMp357nv1VKn')]"
      ]
     },
     "execution_count": 82,
     "metadata": {},
     "output_type": "execute_result"
    }
   ],
   "source": [
    "message"
   ]
  },
  {
   "cell_type": "code",
   "execution_count": 83,
   "id": "3599cf4e",
   "metadata": {},
   "outputs": [
    {
     "data": {
      "text/plain": [
       "'The product of multiplying 3 with 10 is 30.'"
      ]
     },
     "execution_count": 83,
     "metadata": {},
     "output_type": "execute_result"
    }
   ],
   "source": [
    "llm_with_tools.invoke(message).content"
   ]
  },
  {
   "cell_type": "markdown",
   "id": "8cf4cf40",
   "metadata": {},
   "source": [
    "# Currency Conversion tool"
   ]
  },
  {
   "cell_type": "code",
   "execution_count": 106,
   "id": "4250fc1d",
   "metadata": {},
   "outputs": [],
   "source": [
    "## Create tools\n",
    "from langchain_core.tools import InjectedToolArg\n",
    "from typing import Annotated"
   ]
  },
  {
   "cell_type": "code",
   "execution_count": 95,
   "id": "f42e8e80",
   "metadata": {},
   "outputs": [],
   "source": [
    "@tool\n",
    "def get_currency_factor(base_currency: str, target_currency : str)->float:\n",
    "    \"\"\"\n",
    "    This function fetches the currency conversion factor between a given base currency and a target currency.\n",
    "\n",
    "    Args:\n",
    "        base_currency (str): _description_\n",
    "        target_currency (str): _description_\n",
    "\n",
    "    Returns:\n",
    "        float: _description_\n",
    "    \"\"\"\n",
    "    url = f\"https://v6.exchangerate-api.com/v6/e8b9fd8010ebeee808f10c07/pair/{base_currency}/{target_currency}\"\n",
    "    \n",
    "    response = requests.get(url)\n",
    "    return response.json()\n",
    "\n",
    "@tool\n",
    "def convert(base_currency_value:int, conversion_rate :float)->float:\n",
    "    \"\"\"\n",
    "    Given a currency this function calculates the target currency value from a given base currency value\n",
    "\n",
    "    Args:\n",
    "        base_currency_value (int): _description_\n",
    "        conversion_rate (float): _description_\n",
    "\n",
    "    Returns:\n",
    "        float: _description_\n",
    "        \n",
    "    \"\"\"\n",
    "    return base_currency_value * conversion_rate"
   ]
  },
  {
   "cell_type": "code",
   "execution_count": 96,
   "id": "3b0ee212",
   "metadata": {},
   "outputs": [
    {
     "data": {
      "text/plain": [
       "{'result': 'success',\n",
       " 'documentation': 'https://www.exchangerate-api.com/docs',\n",
       " 'terms_of_use': 'https://www.exchangerate-api.com/terms',\n",
       " 'time_last_update_unix': 1753574401,\n",
       " 'time_last_update_utc': 'Sun, 27 Jul 2025 00:00:01 +0000',\n",
       " 'time_next_update_unix': 1753660801,\n",
       " 'time_next_update_utc': 'Mon, 28 Jul 2025 00:00:01 +0000',\n",
       " 'base_code': 'USD',\n",
       " 'target_code': 'INR',\n",
       " 'conversion_rate': 86.51}"
      ]
     },
     "execution_count": 96,
     "metadata": {},
     "output_type": "execute_result"
    }
   ],
   "source": [
    "get_currency_factor.invoke({'base_currency':'USD', 'target_currency':'INR'})"
   ]
  },
  {
   "cell_type": "code",
   "execution_count": 97,
   "id": "5248f891",
   "metadata": {},
   "outputs": [
    {
     "data": {
      "text/plain": [
       "851.5999999999999"
      ]
     },
     "execution_count": 97,
     "metadata": {},
     "output_type": "execute_result"
    }
   ],
   "source": [
    "convert.invoke({'base_currency_value':10, 'conversion_rate':85.16})"
   ]
  },
  {
   "cell_type": "code",
   "execution_count": 98,
   "id": "63ab91e2",
   "metadata": {},
   "outputs": [],
   "source": [
    "## Binding with llm"
   ]
  },
  {
   "cell_type": "code",
   "execution_count": 99,
   "id": "4aad8a0b",
   "metadata": {},
   "outputs": [],
   "source": [
    "llm = ChatOpenAI()"
   ]
  },
  {
   "cell_type": "code",
   "execution_count": 100,
   "id": "a6616c17",
   "metadata": {},
   "outputs": [],
   "source": [
    "llm_with_tools = llm.bind_tools([get_currency_factor, convert])"
   ]
  },
  {
   "cell_type": "code",
   "execution_count": 101,
   "id": "77c4ca18",
   "metadata": {},
   "outputs": [],
   "source": [
    "messages = [HumanMessage('What is the conversion factor between USD and INR based on that can you convert 10 USD to INR')]"
   ]
  },
  {
   "cell_type": "code",
   "execution_count": 102,
   "id": "8be0d9c6",
   "metadata": {},
   "outputs": [
    {
     "data": {
      "text/plain": [
       "[HumanMessage(content='What is the conversion factor between USD and INR based on that can you convert 10 USD to INR', additional_kwargs={}, response_metadata={})]"
      ]
     },
     "execution_count": 102,
     "metadata": {},
     "output_type": "execute_result"
    }
   ],
   "source": [
    "messages"
   ]
  },
  {
   "cell_type": "code",
   "execution_count": 104,
   "id": "7f8507b1",
   "metadata": {},
   "outputs": [],
   "source": [
    "ai_msg =llm_with_tools.invoke(messages)"
   ]
  },
  {
   "cell_type": "code",
   "execution_count": 105,
   "id": "1728dce7",
   "metadata": {},
   "outputs": [
    {
     "data": {
      "text/plain": [
       "[{'name': 'get_currency_factor',\n",
       "  'args': {'base_currency': 'USD', 'target_currency': 'INR'},\n",
       "  'id': 'call_V0J4eQCGzxDkUslz1mxvlyV3',\n",
       "  'type': 'tool_call'},\n",
       " {'name': 'convert',\n",
       "  'args': {'base_currency_value': 10, 'conversion_rate': 73.45},\n",
       "  'id': 'call_zHjyieMK3BdKhx5Un6M9Onnn',\n",
       "  'type': 'tool_call'}]"
      ]
     },
     "execution_count": 105,
     "metadata": {},
     "output_type": "execute_result"
    }
   ],
   "source": [
    "ai_msg.tool_calls"
   ]
  },
  {
   "cell_type": "code",
   "execution_count": null,
   "id": "1d75dbf3",
   "metadata": {},
   "outputs": [],
   "source": []
  }
 ],
 "metadata": {
  "kernelspec": {
   "display_name": "venv (3.13.1)",
   "language": "python",
   "name": "python3"
  },
  "language_info": {
   "codemirror_mode": {
    "name": "ipython",
    "version": 3
   },
   "file_extension": ".py",
   "mimetype": "text/x-python",
   "name": "python",
   "nbconvert_exporter": "python",
   "pygments_lexer": "ipython3",
   "version": "3.13.1"
  }
 },
 "nbformat": 4,
 "nbformat_minor": 5
}
