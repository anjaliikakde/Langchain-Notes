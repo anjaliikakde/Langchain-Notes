{
 "cells": [
  {
   "cell_type": "code",
   "execution_count": 2,
   "id": "ed6f963e",
   "metadata": {},
   "outputs": [
    {
     "name": "stdout",
     "output_type": "stream",
     "text": [
      "Collecting duckduckgo-search\n",
      "  Downloading duckduckgo_search-8.1.1-py3-none-any.whl.metadata (16 kB)\n",
      "Requirement already satisfied: click>=8.1.8 in e:\\genai langchain\\venv\\lib\\site-packages (from duckduckgo-search) (8.2.1)\n",
      "Collecting primp>=0.15.0 (from duckduckgo-search)\n",
      "  Downloading primp-0.15.0-cp38-abi3-win_amd64.whl.metadata (13 kB)\n",
      "Collecting lxml>=5.3.0 (from duckduckgo-search)\n",
      "  Downloading lxml-6.0.0-cp313-cp313-win_amd64.whl.metadata (6.8 kB)\n",
      "Requirement already satisfied: colorama in e:\\genai langchain\\venv\\lib\\site-packages (from click>=8.1.8->duckduckgo-search) (0.4.6)\n",
      "Downloading duckduckgo_search-8.1.1-py3-none-any.whl (18 kB)\n",
      "Downloading lxml-6.0.0-cp313-cp313-win_amd64.whl (4.0 MB)\n",
      "   ---------------------------------------- 0.0/4.0 MB ? eta -:--:--\n",
      "   ---------------------------------------- 0.0/4.0 MB ? eta -:--:--\n",
      "   ---------------------------------------- 0.0/4.0 MB ? eta -:--:--\n",
      "   ---------------------------------------- 0.0/4.0 MB ? eta -:--:--\n",
      "   ---------------------------------------- 0.0/4.0 MB ? eta -:--:--\n",
      "   ---------------------------------------- 0.0/4.0 MB ? eta -:--:--\n",
      "   ---------------------------------------- 0.0/4.0 MB ? eta -:--:--\n",
      "   ---------------------------------------- 0.0/4.0 MB ? eta -:--:--\n",
      "   ---------------------------------------- 0.0/4.0 MB ? eta -:--:--\n",
      "   ---------------------------------------- 0.0/4.0 MB ? eta -:--:--\n",
      "   ---------------------------------------- 0.0/4.0 MB ? eta -:--:--\n",
      "   ---------------------------------------- 0.0/4.0 MB ? eta -:--:--\n",
      "   -- ------------------------------------- 0.3/4.0 MB ? eta -:--:--\n",
      "   -- ------------------------------------- 0.3/4.0 MB ? eta -:--:--\n",
      "   -- ------------------------------------- 0.3/4.0 MB ? eta -:--:--\n",
      "   -- ------------------------------------- 0.3/4.0 MB ? eta -:--:--\n",
      "   -- ------------------------------------- 0.3/4.0 MB ? eta -:--:--\n",
      "   -- ------------------------------------- 0.3/4.0 MB ? eta -:--:--\n",
      "   -- ------------------------------------- 0.3/4.0 MB ? eta -:--:--\n",
      "   -- ------------------------------------- 0.3/4.0 MB ? eta -:--:--\n",
      "   -- ------------------------------------- 0.3/4.0 MB ? eta -:--:--\n",
      "   -- ------------------------------------- 0.3/4.0 MB ? eta -:--:--\n",
      "   -- ------------------------------------- 0.3/4.0 MB ? eta -:--:--\n",
      "   -- ------------------------------------- 0.3/4.0 MB ? eta -:--:--\n",
      "   -- ------------------------------------- 0.3/4.0 MB ? eta -:--:--\n",
      "   ----- ---------------------------------- 0.5/4.0 MB 86.8 kB/s eta 0:00:41\n",
      "   ----- ---------------------------------- 0.5/4.0 MB 86.8 kB/s eta 0:00:41\n",
      "   ----- ---------------------------------- 0.5/4.0 MB 86.8 kB/s eta 0:00:41\n",
      "   ----- ---------------------------------- 0.5/4.0 MB 86.8 kB/s eta 0:00:41\n",
      "   ----- ---------------------------------- 0.5/4.0 MB 86.8 kB/s eta 0:00:41\n",
      "   ----- ---------------------------------- 0.5/4.0 MB 86.8 kB/s eta 0:00:41\n",
      "   ----- ---------------------------------- 0.5/4.0 MB 86.8 kB/s eta 0:00:41\n",
      "   ----- ---------------------------------- 0.5/4.0 MB 86.8 kB/s eta 0:00:41\n",
      "   ----- ---------------------------------- 0.5/4.0 MB 86.8 kB/s eta 0:00:41\n",
      "   ----- ---------------------------------- 0.5/4.0 MB 86.8 kB/s eta 0:00:41\n",
      "   ----- ---------------------------------- 0.5/4.0 MB 86.8 kB/s eta 0:00:41\n",
      "   ----- ---------------------------------- 0.5/4.0 MB 86.8 kB/s eta 0:00:41\n",
      "   ----- ---------------------------------- 0.5/4.0 MB 86.8 kB/s eta 0:00:41\n",
      "   ----- ---------------------------------- 0.5/4.0 MB 86.8 kB/s eta 0:00:41\n",
      "   ----- ---------------------------------- 0.5/4.0 MB 86.8 kB/s eta 0:00:41\n",
      "   ----- ---------------------------------- 0.5/4.0 MB 86.8 kB/s eta 0:00:41\n",
      "   ----- ---------------------------------- 0.5/4.0 MB 86.8 kB/s eta 0:00:41\n",
      "   ----- ---------------------------------- 0.5/4.0 MB 86.8 kB/s eta 0:00:41\n",
      "   ----- ---------------------------------- 0.5/4.0 MB 86.8 kB/s eta 0:00:41\n",
      "   ----- ---------------------------------- 0.5/4.0 MB 86.8 kB/s eta 0:00:41\n",
      "   ----- ---------------------------------- 0.5/4.0 MB 86.8 kB/s eta 0:00:41\n",
      "   ----- ---------------------------------- 0.5/4.0 MB 86.8 kB/s eta 0:00:41\n",
      "   ----- ---------------------------------- 0.5/4.0 MB 86.8 kB/s eta 0:00:41\n",
      "   ------- -------------------------------- 0.8/4.0 MB 66.3 kB/s eta 0:00:49\n",
      "   ------- -------------------------------- 0.8/4.0 MB 66.3 kB/s eta 0:00:49\n",
      "   ------- -------------------------------- 0.8/4.0 MB 66.3 kB/s eta 0:00:49\n",
      "   ------- -------------------------------- 0.8/4.0 MB 66.3 kB/s eta 0:00:49\n",
      "   ------- -------------------------------- 0.8/4.0 MB 66.3 kB/s eta 0:00:49\n",
      "   ------- -------------------------------- 0.8/4.0 MB 66.3 kB/s eta 0:00:49\n",
      "   ------- -------------------------------- 0.8/4.0 MB 66.3 kB/s eta 0:00:49\n",
      "   ------- -------------------------------- 0.8/4.0 MB 66.3 kB/s eta 0:00:49\n",
      "   ------- -------------------------------- 0.8/4.0 MB 66.3 kB/s eta 0:00:49\n",
      "   ------- -------------------------------- 0.8/4.0 MB 66.3 kB/s eta 0:00:49\n",
      "   ------- -------------------------------- 0.8/4.0 MB 66.3 kB/s eta 0:00:49\n",
      "   ------- -------------------------------- 0.8/4.0 MB 66.3 kB/s eta 0:00:49\n",
      "   ------- -------------------------------- 0.8/4.0 MB 66.3 kB/s eta 0:00:49\n",
      "   ------- -------------------------------- 0.8/4.0 MB 66.3 kB/s eta 0:00:49\n",
      "   ------- -------------------------------- 0.8/4.0 MB 66.3 kB/s eta 0:00:49\n",
      "   ------- -------------------------------- 0.8/4.0 MB 66.3 kB/s eta 0:00:49\n",
      "   ------- -------------------------------- 0.8/4.0 MB 66.3 kB/s eta 0:00:49\n",
      "   ------- -------------------------------- 0.8/4.0 MB 66.3 kB/s eta 0:00:49\n",
      "   ------- -------------------------------- 0.8/4.0 MB 66.3 kB/s eta 0:00:49\n",
      "   ------- -------------------------------- 0.8/4.0 MB 66.3 kB/s eta 0:00:49\n",
      "   ------- -------------------------------- 0.8/4.0 MB 66.3 kB/s eta 0:00:49\n",
      "   ------- -------------------------------- 0.8/4.0 MB 66.3 kB/s eta 0:00:49\n",
      "   ------- -------------------------------- 0.8/4.0 MB 66.3 kB/s eta 0:00:49\n",
      "   ------- -------------------------------- 0.8/4.0 MB 66.3 kB/s eta 0:00:49\n",
      "   ---------- ----------------------------- 1.0/4.0 MB 60.0 kB/s eta 0:00:50\n",
      "   ---------- ----------------------------- 1.0/4.0 MB 60.0 kB/s eta 0:00:50\n",
      "   ---------- ----------------------------- 1.0/4.0 MB 60.0 kB/s eta 0:00:50\n",
      "   ---------- ----------------------------- 1.0/4.0 MB 60.0 kB/s eta 0:00:50\n",
      "   ---------- ----------------------------- 1.0/4.0 MB 60.0 kB/s eta 0:00:50\n",
      "   ---------- ----------------------------- 1.0/4.0 MB 60.0 kB/s eta 0:00:50\n",
      "   ---------- ----------------------------- 1.0/4.0 MB 60.0 kB/s eta 0:00:50\n",
      "   ---------- ----------------------------- 1.0/4.0 MB 60.0 kB/s eta 0:00:50\n",
      "   ---------- ----------------------------- 1.0/4.0 MB 60.0 kB/s eta 0:00:50\n",
      "   ---------- ----------------------------- 1.0/4.0 MB 60.0 kB/s eta 0:00:50\n",
      "   ---------- ----------------------------- 1.0/4.0 MB 60.0 kB/s eta 0:00:50\n",
      "   ---------- ----------------------------- 1.0/4.0 MB 60.0 kB/s eta 0:00:50\n",
      "   ---------- ----------------------------- 1.0/4.0 MB 60.0 kB/s eta 0:00:50\n",
      "   ---------- ----------------------------- 1.0/4.0 MB 60.0 kB/s eta 0:00:50\n",
      "   ---------- ----------------------------- 1.0/4.0 MB 60.0 kB/s eta 0:00:50\n",
      "   ---------- ----------------------------- 1.0/4.0 MB 60.0 kB/s eta 0:00:50\n",
      "   ---------- ----------------------------- 1.0/4.0 MB 60.0 kB/s eta 0:00:50\n",
      "   ---------- ----------------------------- 1.0/4.0 MB 60.0 kB/s eta 0:00:50\n",
      "   ---------- ----------------------------- 1.0/4.0 MB 60.0 kB/s eta 0:00:50\n",
      "   ---------- ----------------------------- 1.0/4.0 MB 60.0 kB/s eta 0:00:50\n",
      "   ------------- -------------------------- 1.3/4.0 MB 59.6 kB/s eta 0:00:46\n",
      "   ------------- -------------------------- 1.3/4.0 MB 59.6 kB/s eta 0:00:46\n",
      "   ------------- -------------------------- 1.3/4.0 MB 59.6 kB/s eta 0:00:46\n",
      "   ------------- -------------------------- 1.3/4.0 MB 59.6 kB/s eta 0:00:46\n",
      "   ------------- -------------------------- 1.3/4.0 MB 59.6 kB/s eta 0:00:46\n",
      "   ------------- -------------------------- 1.3/4.0 MB 59.6 kB/s eta 0:00:46\n",
      "   ------------- -------------------------- 1.3/4.0 MB 59.6 kB/s eta 0:00:46\n",
      "   --------------- ------------------------ 1.6/4.0 MB 68.5 kB/s eta 0:00:36\n",
      "   --------------- ------------------------ 1.6/4.0 MB 68.5 kB/s eta 0:00:36\n",
      "   --------------- ------------------------ 1.6/4.0 MB 68.5 kB/s eta 0:00:36\n",
      "   --------------- ------------------------ 1.6/4.0 MB 68.5 kB/s eta 0:00:36\n",
      "   --------------- ------------------------ 1.6/4.0 MB 68.5 kB/s eta 0:00:36\n",
      "   --------------- ------------------------ 1.6/4.0 MB 68.5 kB/s eta 0:00:36\n",
      "   --------------- ------------------------ 1.6/4.0 MB 68.5 kB/s eta 0:00:36\n",
      "   --------------- ------------------------ 1.6/4.0 MB 68.5 kB/s eta 0:00:36\n",
      "   ------------------ --------------------- 1.8/4.0 MB 75.3 kB/s eta 0:00:29\n",
      "   ------------------ --------------------- 1.8/4.0 MB 75.3 kB/s eta 0:00:29\n",
      "   ------------------ --------------------- 1.8/4.0 MB 75.3 kB/s eta 0:00:29\n",
      "   ------------------ --------------------- 1.8/4.0 MB 75.3 kB/s eta 0:00:29\n",
      "   ------------------ --------------------- 1.8/4.0 MB 75.3 kB/s eta 0:00:29\n",
      "   ------------------ --------------------- 1.8/4.0 MB 75.3 kB/s eta 0:00:29\n",
      "   ------------------ --------------------- 1.8/4.0 MB 75.3 kB/s eta 0:00:29\n",
      "   ------------------ --------------------- 1.8/4.0 MB 75.3 kB/s eta 0:00:29\n",
      "   ------------------ --------------------- 1.8/4.0 MB 75.3 kB/s eta 0:00:29\n",
      "   ------------------ --------------------- 1.8/4.0 MB 75.3 kB/s eta 0:00:29\n",
      "   ------------------ --------------------- 1.8/4.0 MB 75.3 kB/s eta 0:00:29\n",
      "   ------------------ --------------------- 1.8/4.0 MB 75.3 kB/s eta 0:00:29\n",
      "   ------------------ --------------------- 1.8/4.0 MB 75.3 kB/s eta 0:00:29\n",
      "   ------------------ --------------------- 1.8/4.0 MB 75.3 kB/s eta 0:00:29\n",
      "   ------------------ --------------------- 1.8/4.0 MB 75.3 kB/s eta 0:00:29\n",
      "   ------------------ --------------------- 1.8/4.0 MB 75.3 kB/s eta 0:00:29\n",
      "   ------------------ --------------------- 1.8/4.0 MB 75.3 kB/s eta 0:00:29\n",
      "   ------------------ --------------------- 1.8/4.0 MB 75.3 kB/s eta 0:00:29\n",
      "   -------------------- ------------------- 2.1/4.0 MB 74.3 kB/s eta 0:00:26\n",
      "   -------------------- ------------------- 2.1/4.0 MB 74.3 kB/s eta 0:00:26\n",
      "   -------------------- ------------------- 2.1/4.0 MB 74.3 kB/s eta 0:00:26\n",
      "   -------------------- ------------------- 2.1/4.0 MB 74.3 kB/s eta 0:00:26\n",
      "   -------------------- ------------------- 2.1/4.0 MB 74.3 kB/s eta 0:00:26\n",
      "   -------------------- ------------------- 2.1/4.0 MB 74.3 kB/s eta 0:00:26\n",
      "   -------------------- ------------------- 2.1/4.0 MB 74.3 kB/s eta 0:00:26\n",
      "   -------------------- ------------------- 2.1/4.0 MB 74.3 kB/s eta 0:00:26\n",
      "   -------------------- ------------------- 2.1/4.0 MB 74.3 kB/s eta 0:00:26\n",
      "   -------------------- ------------------- 2.1/4.0 MB 74.3 kB/s eta 0:00:26\n",
      "   -------------------- ------------------- 2.1/4.0 MB 74.3 kB/s eta 0:00:26\n",
      "   -------------------- ------------------- 2.1/4.0 MB 74.3 kB/s eta 0:00:26\n",
      "   -------------------- ------------------- 2.1/4.0 MB 74.3 kB/s eta 0:00:26\n",
      "   -------------------- ------------------- 2.1/4.0 MB 74.3 kB/s eta 0:00:26\n",
      "   ----------------------- ---------------- 2.4/4.0 MB 75.4 kB/s eta 0:00:22\n",
      "   ----------------------- ---------------- 2.4/4.0 MB 75.4 kB/s eta 0:00:22\n",
      "   ----------------------- ---------------- 2.4/4.0 MB 75.4 kB/s eta 0:00:22\n",
      "   ----------------------- ---------------- 2.4/4.0 MB 75.4 kB/s eta 0:00:22\n",
      "   ----------------------- ---------------- 2.4/4.0 MB 75.4 kB/s eta 0:00:22\n",
      "   -------------------------- ------------- 2.6/4.0 MB 81.7 kB/s eta 0:00:18\n",
      "   -------------------------- ------------- 2.6/4.0 MB 81.7 kB/s eta 0:00:18\n",
      "   -------------------------- ------------- 2.6/4.0 MB 81.7 kB/s eta 0:00:18\n",
      "   -------------------------- ------------- 2.6/4.0 MB 81.7 kB/s eta 0:00:18\n",
      "   -------------------------- ------------- 2.6/4.0 MB 81.7 kB/s eta 0:00:18\n",
      "   -------------------------- ------------- 2.6/4.0 MB 81.7 kB/s eta 0:00:18\n",
      "   -------------------------- ------------- 2.6/4.0 MB 81.7 kB/s eta 0:00:18\n",
      "   -------------------------- ------------- 2.6/4.0 MB 81.7 kB/s eta 0:00:18\n",
      "   -------------------------- ------------- 2.6/4.0 MB 81.7 kB/s eta 0:00:18\n",
      "   ---------------------------- ----------- 2.9/4.0 MB 84.6 kB/s eta 0:00:14\n",
      "   ---------------------------- ----------- 2.9/4.0 MB 84.6 kB/s eta 0:00:14\n",
      "   ---------------------------- ----------- 2.9/4.0 MB 84.6 kB/s eta 0:00:14\n",
      "   ---------------------------- ----------- 2.9/4.0 MB 84.6 kB/s eta 0:00:14\n",
      "   ---------------------------- ----------- 2.9/4.0 MB 84.6 kB/s eta 0:00:14\n",
      "   ---------------------------- ----------- 2.9/4.0 MB 84.6 kB/s eta 0:00:14\n",
      "   ---------------------------- ----------- 2.9/4.0 MB 84.6 kB/s eta 0:00:14\n",
      "   ------------------------------- -------- 3.1/4.0 MB 89.4 kB/s eta 0:00:10\n",
      "   ------------------------------- -------- 3.1/4.0 MB 89.4 kB/s eta 0:00:10\n",
      "   ------------------------------- -------- 3.1/4.0 MB 89.4 kB/s eta 0:00:10\n",
      "   ------------------------------- -------- 3.1/4.0 MB 89.4 kB/s eta 0:00:10\n",
      "   ------------------------------- -------- 3.1/4.0 MB 89.4 kB/s eta 0:00:10\n",
      "   ------------------------------- -------- 3.1/4.0 MB 89.4 kB/s eta 0:00:10\n",
      "   ------------------------------- -------- 3.1/4.0 MB 89.4 kB/s eta 0:00:10\n",
      "   ------------------------------- -------- 3.1/4.0 MB 89.4 kB/s eta 0:00:10\n",
      "   ------------------------------- -------- 3.1/4.0 MB 89.4 kB/s eta 0:00:10\n",
      "   --------------------------------- ------ 3.4/4.0 MB 99.4 kB/s eta 0:00:07\n",
      "   --------------------------------- ------ 3.4/4.0 MB 99.4 kB/s eta 0:00:07\n",
      "   --------------------------------- ------ 3.4/4.0 MB 99.4 kB/s eta 0:00:07\n",
      "   --------------------------------- ------ 3.4/4.0 MB 99.4 kB/s eta 0:00:07\n",
      "   ------------------------------------ --- 3.7/4.0 MB 105.9 kB/s eta 0:00:04\n",
      "   ------------------------------------ --- 3.7/4.0 MB 105.9 kB/s eta 0:00:04\n",
      "   ------------------------------------ --- 3.7/4.0 MB 105.9 kB/s eta 0:00:04\n",
      "   ------------------------------------ --- 3.7/4.0 MB 105.9 kB/s eta 0:00:04\n",
      "   ------------------------------------ --- 3.7/4.0 MB 105.9 kB/s eta 0:00:04\n",
      "   ------------------------------------ --- 3.7/4.0 MB 105.9 kB/s eta 0:00:04\n",
      "   ------------------------------------ --- 3.7/4.0 MB 105.9 kB/s eta 0:00:04\n",
      "   ------------------------------------ --- 3.7/4.0 MB 105.9 kB/s eta 0:00:04\n",
      "   ------------------------------------ --- 3.7/4.0 MB 105.9 kB/s eta 0:00:04\n",
      "   ---------------------------------------  3.9/4.0 MB 107.3 kB/s eta 0:00:01\n",
      "   ---------------------------------------- 4.0/4.0 MB 109.1 kB/s eta 0:00:00\n",
      "Downloading primp-0.15.0-cp38-abi3-win_amd64.whl (3.1 MB)\n",
      "   ---------------------------------------- 0.0/3.1 MB ? eta -:--:--\n",
      "   ---------------------------------------- 0.0/3.1 MB ? eta -:--:--\n",
      "   ---------------------------------------- 0.0/3.1 MB ? eta -:--:--\n",
      "   ---------------------------------------- 0.0/3.1 MB ? eta -:--:--\n",
      "   ---------------------------------------- 0.0/3.1 MB ? eta -:--:--\n",
      "   --- ------------------------------------ 0.3/3.1 MB ? eta -:--:--\n",
      "   --- ------------------------------------ 0.3/3.1 MB ? eta -:--:--\n",
      "   --- ------------------------------------ 0.3/3.1 MB ? eta -:--:--\n",
      "   --- ------------------------------------ 0.3/3.1 MB ? eta -:--:--\n",
      "   --- ------------------------------------ 0.3/3.1 MB ? eta -:--:--\n",
      "   --- ------------------------------------ 0.3/3.1 MB ? eta -:--:--\n",
      "   --- ------------------------------------ 0.3/3.1 MB ? eta -:--:--\n",
      "   ------ --------------------------------- 0.5/3.1 MB 156.2 kB/s eta 0:00:17\n",
      "   ------ --------------------------------- 0.5/3.1 MB 156.2 kB/s eta 0:00:17\n",
      "   ------ --------------------------------- 0.5/3.1 MB 156.2 kB/s eta 0:00:17\n",
      "   ------ --------------------------------- 0.5/3.1 MB 156.2 kB/s eta 0:00:17\n",
      "   ------ --------------------------------- 0.5/3.1 MB 156.2 kB/s eta 0:00:17\n",
      "   --------- ------------------------------ 0.8/3.1 MB 190.1 kB/s eta 0:00:13\n",
      "   --------- ------------------------------ 0.8/3.1 MB 190.1 kB/s eta 0:00:13\n",
      "   --------- ------------------------------ 0.8/3.1 MB 190.1 kB/s eta 0:00:13\n",
      "   --------- ------------------------------ 0.8/3.1 MB 190.1 kB/s eta 0:00:13\n",
      "   --------- ------------------------------ 0.8/3.1 MB 190.1 kB/s eta 0:00:13\n",
      "   --------- ------------------------------ 0.8/3.1 MB 190.1 kB/s eta 0:00:13\n",
      "   ------------- -------------------------- 1.0/3.1 MB 197.7 kB/s eta 0:00:11\n",
      "   ------------- -------------------------- 1.0/3.1 MB 197.7 kB/s eta 0:00:11\n",
      "   ------------- -------------------------- 1.0/3.1 MB 197.7 kB/s eta 0:00:11\n",
      "   ------------- -------------------------- 1.0/3.1 MB 197.7 kB/s eta 0:00:11\n",
      "   ---------------- ----------------------- 1.3/3.1 MB 213.7 kB/s eta 0:00:09\n",
      "   ---------------- ----------------------- 1.3/3.1 MB 213.7 kB/s eta 0:00:09\n",
      "   ---------------- ----------------------- 1.3/3.1 MB 213.7 kB/s eta 0:00:09\n",
      "   ---------------- ----------------------- 1.3/3.1 MB 213.7 kB/s eta 0:00:09\n",
      "   ------------------- -------------------- 1.6/3.1 MB 230.9 kB/s eta 0:00:07\n",
      "   ------------------- -------------------- 1.6/3.1 MB 230.9 kB/s eta 0:00:07\n",
      "   ------------------- -------------------- 1.6/3.1 MB 230.9 kB/s eta 0:00:07\n",
      "   ------------------- -------------------- 1.6/3.1 MB 230.9 kB/s eta 0:00:07\n",
      "   ------------------- -------------------- 1.6/3.1 MB 230.9 kB/s eta 0:00:07\n",
      "   ------------------- -------------------- 1.6/3.1 MB 230.9 kB/s eta 0:00:07\n",
      "   ------------------- -------------------- 1.6/3.1 MB 230.9 kB/s eta 0:00:07\n",
      "   ----------------------- ---------------- 1.8/3.1 MB 218.4 kB/s eta 0:00:07\n",
      "   ----------------------- ---------------- 1.8/3.1 MB 218.4 kB/s eta 0:00:07\n",
      "   ----------------------- ---------------- 1.8/3.1 MB 218.4 kB/s eta 0:00:07\n",
      "   ----------------------- ---------------- 1.8/3.1 MB 218.4 kB/s eta 0:00:07\n",
      "   -------------------------- ------------- 2.1/3.1 MB 224.9 kB/s eta 0:00:05\n",
      "   -------------------------- ------------- 2.1/3.1 MB 224.9 kB/s eta 0:00:05\n",
      "   -------------------------- ------------- 2.1/3.1 MB 224.9 kB/s eta 0:00:05\n",
      "   -------------------------- ------------- 2.1/3.1 MB 224.9 kB/s eta 0:00:05\n",
      "   -------------------------- ------------- 2.1/3.1 MB 224.9 kB/s eta 0:00:05\n",
      "   -------------------------- ------------- 2.1/3.1 MB 224.9 kB/s eta 0:00:05\n",
      "   -------------------------- ------------- 2.1/3.1 MB 224.9 kB/s eta 0:00:05\n",
      "   -------------------------- ------------- 2.1/3.1 MB 224.9 kB/s eta 0:00:05\n",
      "   ----------------------------- ---------- 2.4/3.1 MB 213.5 kB/s eta 0:00:04\n",
      "   ----------------------------- ---------- 2.4/3.1 MB 213.5 kB/s eta 0:00:04\n",
      "   ----------------------------- ---------- 2.4/3.1 MB 213.5 kB/s eta 0:00:04\n",
      "   ----------------------------- ---------- 2.4/3.1 MB 213.5 kB/s eta 0:00:04\n",
      "   --------------------------------- ------ 2.6/3.1 MB 220.8 kB/s eta 0:00:03\n",
      "   --------------------------------- ------ 2.6/3.1 MB 220.8 kB/s eta 0:00:03\n",
      "   --------------------------------- ------ 2.6/3.1 MB 220.8 kB/s eta 0:00:03\n",
      "   ------------------------------------ --- 2.9/3.1 MB 229.8 kB/s eta 0:00:02\n",
      "   ------------------------------------ --- 2.9/3.1 MB 229.8 kB/s eta 0:00:02\n",
      "   ------------------------------------ --- 2.9/3.1 MB 229.8 kB/s eta 0:00:02\n",
      "   ---------------------------------------- 3.1/3.1 MB 239.1 kB/s eta 0:00:00\n",
      "Installing collected packages: primp, lxml, duckduckgo-search\n",
      "\n",
      "   ---------------------------------------- 0/3 [primp]\n",
      "   ------------- -------------------------- 1/3 [lxml]\n",
      "   ------------- -------------------------- 1/3 [lxml]\n",
      "   ------------- -------------------------- 1/3 [lxml]\n",
      "   ------------- -------------------------- 1/3 [lxml]\n",
      "   ------------- -------------------------- 1/3 [lxml]\n",
      "   ------------- -------------------------- 1/3 [lxml]\n",
      "   ------------- -------------------------- 1/3 [lxml]\n",
      "   ------------- -------------------------- 1/3 [lxml]\n",
      "   ------------- -------------------------- 1/3 [lxml]\n",
      "   ------------- -------------------------- 1/3 [lxml]\n",
      "   -------------------------- ------------- 2/3 [duckduckgo-search]\n",
      "   -------------------------- ------------- 2/3 [duckduckgo-search]\n",
      "   -------------------------- ------------- 2/3 [duckduckgo-search]\n",
      "   ---------------------------------------- 3/3 [duckduckgo-search]\n",
      "\n",
      "Successfully installed duckduckgo-search-8.1.1 lxml-6.0.0 primp-0.15.0\n"
     ]
    }
   ],
   "source": [
    "!pip install duckduckgo-search"
   ]
  },
  {
   "cell_type": "markdown",
   "id": "a7465cb3",
   "metadata": {},
   "source": [
    "# Built-in tool - DuckDuckGo Search"
   ]
  },
  {
   "cell_type": "code",
   "execution_count": 10,
   "id": "eef0759c",
   "metadata": {},
   "outputs": [
    {
     "name": "stderr",
     "output_type": "stream",
     "text": [
      "e:\\GenAI Langchain\\venv\\Lib\\site-packages\\langchain_community\\utilities\\duckduckgo_search.py:63: RuntimeWarning: This package (`duckduckgo_search`) has been renamed to `ddgs`! Use `pip install ddgs` instead.\n",
      "  with DDGS() as ddgs:\n"
     ]
    },
    {
     "name": "stdout",
     "output_type": "stream",
     "text": [
      "India, officially the Republic of India, [j][20] is a country in South Asia. 1 day ago · India is a country that occupies the greater part of South Asia. It is a constitutional republic that represents a highly diverse population consisting of thousands of ethnic groups. It … National Portal of India provides a single-window access to information and services that are electronically delivered from all Government Departments, Institutions and Organizations. It has achieved all-round socio-economic progress since Independence. As the 7th largest country in the world, India stands apart from the rest of Asia, marked off as it is by mountains and the … India is a peninsular country. It has the Indian Ocean to the south, the Arabian Sea in the southwest, the Bay of Bengal in the southeast, and the Himalayas up north. It has six …\n"
     ]
    }
   ],
   "source": [
    "from langchain_community.tools import DuckDuckGoSearchRun\n",
    "\n",
    "search_tool = DuckDuckGoSearchRun()\n",
    "\n",
    "result = search_tool.invoke('India top news 26 july 2025')\n",
    "\n",
    "print(result)"
   ]
  },
  {
   "cell_type": "markdown",
   "id": "f8f949a4",
   "metadata": {},
   "source": [
    "# Built-in tool - Shell tool"
   ]
  },
  {
   "cell_type": "code",
   "execution_count": 11,
   "id": "43d39c82",
   "metadata": {},
   "outputs": [
    {
     "name": "stdout",
     "output_type": "stream",
     "text": [
      "Collecting langchain_experimental\n",
      "  Downloading langchain_experimental-0.3.4-py3-none-any.whl.metadata (1.7 kB)\n",
      "Requirement already satisfied: langchain-community<0.4.0,>=0.3.0 in e:\\genai langchain\\venv\\lib\\site-packages (from langchain_experimental) (0.3.27)\n",
      "Requirement already satisfied: langchain-core<0.4.0,>=0.3.28 in e:\\genai langchain\\venv\\lib\\site-packages (from langchain_experimental) (0.3.69)\n",
      "Requirement already satisfied: langchain<1.0.0,>=0.3.26 in e:\\genai langchain\\venv\\lib\\site-packages (from langchain-community<0.4.0,>=0.3.0->langchain_experimental) (0.3.26)\n",
      "Requirement already satisfied: SQLAlchemy<3,>=1.4 in e:\\genai langchain\\venv\\lib\\site-packages (from langchain-community<0.4.0,>=0.3.0->langchain_experimental) (2.0.41)\n",
      "Requirement already satisfied: requests<3,>=2 in e:\\genai langchain\\venv\\lib\\site-packages (from langchain-community<0.4.0,>=0.3.0->langchain_experimental) (2.32.4)\n",
      "Requirement already satisfied: PyYAML>=5.3 in e:\\genai langchain\\venv\\lib\\site-packages (from langchain-community<0.4.0,>=0.3.0->langchain_experimental) (6.0.2)\n",
      "Requirement already satisfied: aiohttp<4.0.0,>=3.8.3 in e:\\genai langchain\\venv\\lib\\site-packages (from langchain-community<0.4.0,>=0.3.0->langchain_experimental) (3.12.14)\n",
      "Requirement already satisfied: tenacity!=8.4.0,<10,>=8.1.0 in e:\\genai langchain\\venv\\lib\\site-packages (from langchain-community<0.4.0,>=0.3.0->langchain_experimental) (9.1.2)\n",
      "Requirement already satisfied: dataclasses-json<0.7,>=0.5.7 in e:\\genai langchain\\venv\\lib\\site-packages (from langchain-community<0.4.0,>=0.3.0->langchain_experimental) (0.6.7)\n",
      "Requirement already satisfied: pydantic-settings<3.0.0,>=2.4.0 in e:\\genai langchain\\venv\\lib\\site-packages (from langchain-community<0.4.0,>=0.3.0->langchain_experimental) (2.10.1)\n",
      "Requirement already satisfied: langsmith>=0.1.125 in e:\\genai langchain\\venv\\lib\\site-packages (from langchain-community<0.4.0,>=0.3.0->langchain_experimental) (0.4.8)\n",
      "Requirement already satisfied: httpx-sse<1.0.0,>=0.4.0 in e:\\genai langchain\\venv\\lib\\site-packages (from langchain-community<0.4.0,>=0.3.0->langchain_experimental) (0.4.0)\n",
      "Requirement already satisfied: numpy>=2.1.0 in e:\\genai langchain\\venv\\lib\\site-packages (from langchain-community<0.4.0,>=0.3.0->langchain_experimental) (2.3.1)\n",
      "Requirement already satisfied: aiohappyeyeballs>=2.5.0 in e:\\genai langchain\\venv\\lib\\site-packages (from aiohttp<4.0.0,>=3.8.3->langchain-community<0.4.0,>=0.3.0->langchain_experimental) (2.6.1)\n",
      "Requirement already satisfied: aiosignal>=1.4.0 in e:\\genai langchain\\venv\\lib\\site-packages (from aiohttp<4.0.0,>=3.8.3->langchain-community<0.4.0,>=0.3.0->langchain_experimental) (1.4.0)\n",
      "Requirement already satisfied: attrs>=17.3.0 in e:\\genai langchain\\venv\\lib\\site-packages (from aiohttp<4.0.0,>=3.8.3->langchain-community<0.4.0,>=0.3.0->langchain_experimental) (25.3.0)\n",
      "Requirement already satisfied: frozenlist>=1.1.1 in e:\\genai langchain\\venv\\lib\\site-packages (from aiohttp<4.0.0,>=3.8.3->langchain-community<0.4.0,>=0.3.0->langchain_experimental) (1.7.0)\n",
      "Requirement already satisfied: multidict<7.0,>=4.5 in e:\\genai langchain\\venv\\lib\\site-packages (from aiohttp<4.0.0,>=3.8.3->langchain-community<0.4.0,>=0.3.0->langchain_experimental) (6.6.3)\n",
      "Requirement already satisfied: propcache>=0.2.0 in e:\\genai langchain\\venv\\lib\\site-packages (from aiohttp<4.0.0,>=3.8.3->langchain-community<0.4.0,>=0.3.0->langchain_experimental) (0.3.2)\n",
      "Requirement already satisfied: yarl<2.0,>=1.17.0 in e:\\genai langchain\\venv\\lib\\site-packages (from aiohttp<4.0.0,>=3.8.3->langchain-community<0.4.0,>=0.3.0->langchain_experimental) (1.20.1)\n",
      "Requirement already satisfied: marshmallow<4.0.0,>=3.18.0 in e:\\genai langchain\\venv\\lib\\site-packages (from dataclasses-json<0.7,>=0.5.7->langchain-community<0.4.0,>=0.3.0->langchain_experimental) (3.26.1)\n",
      "Requirement already satisfied: typing-inspect<1,>=0.4.0 in e:\\genai langchain\\venv\\lib\\site-packages (from dataclasses-json<0.7,>=0.5.7->langchain-community<0.4.0,>=0.3.0->langchain_experimental) (0.9.0)\n",
      "Requirement already satisfied: langchain-text-splitters<1.0.0,>=0.3.8 in e:\\genai langchain\\venv\\lib\\site-packages (from langchain<1.0.0,>=0.3.26->langchain-community<0.4.0,>=0.3.0->langchain_experimental) (0.3.8)\n",
      "Requirement already satisfied: pydantic<3.0.0,>=2.7.4 in e:\\genai langchain\\venv\\lib\\site-packages (from langchain<1.0.0,>=0.3.26->langchain-community<0.4.0,>=0.3.0->langchain_experimental) (2.11.7)\n",
      "Requirement already satisfied: jsonpatch<2.0,>=1.33 in e:\\genai langchain\\venv\\lib\\site-packages (from langchain-core<0.4.0,>=0.3.28->langchain_experimental) (1.33)\n",
      "Requirement already satisfied: typing-extensions>=4.7 in e:\\genai langchain\\venv\\lib\\site-packages (from langchain-core<0.4.0,>=0.3.28->langchain_experimental) (4.14.1)\n",
      "Requirement already satisfied: packaging>=23.2 in e:\\genai langchain\\venv\\lib\\site-packages (from langchain-core<0.4.0,>=0.3.28->langchain_experimental) (25.0)\n",
      "Requirement already satisfied: jsonpointer>=1.9 in e:\\genai langchain\\venv\\lib\\site-packages (from jsonpatch<2.0,>=1.33->langchain-core<0.4.0,>=0.3.28->langchain_experimental) (3.0.0)\n",
      "Requirement already satisfied: annotated-types>=0.6.0 in e:\\genai langchain\\venv\\lib\\site-packages (from pydantic<3.0.0,>=2.7.4->langchain<1.0.0,>=0.3.26->langchain-community<0.4.0,>=0.3.0->langchain_experimental) (0.7.0)\n",
      "Requirement already satisfied: pydantic-core==2.33.2 in e:\\genai langchain\\venv\\lib\\site-packages (from pydantic<3.0.0,>=2.7.4->langchain<1.0.0,>=0.3.26->langchain-community<0.4.0,>=0.3.0->langchain_experimental) (2.33.2)\n",
      "Requirement already satisfied: typing-inspection>=0.4.0 in e:\\genai langchain\\venv\\lib\\site-packages (from pydantic<3.0.0,>=2.7.4->langchain<1.0.0,>=0.3.26->langchain-community<0.4.0,>=0.3.0->langchain_experimental) (0.4.1)\n",
      "Requirement already satisfied: python-dotenv>=0.21.0 in e:\\genai langchain\\venv\\lib\\site-packages (from pydantic-settings<3.0.0,>=2.4.0->langchain-community<0.4.0,>=0.3.0->langchain_experimental) (1.1.1)\n",
      "Requirement already satisfied: charset_normalizer<4,>=2 in e:\\genai langchain\\venv\\lib\\site-packages (from requests<3,>=2->langchain-community<0.4.0,>=0.3.0->langchain_experimental) (3.4.2)\n",
      "Requirement already satisfied: idna<4,>=2.5 in e:\\genai langchain\\venv\\lib\\site-packages (from requests<3,>=2->langchain-community<0.4.0,>=0.3.0->langchain_experimental) (3.10)\n",
      "Requirement already satisfied: urllib3<3,>=1.21.1 in e:\\genai langchain\\venv\\lib\\site-packages (from requests<3,>=2->langchain-community<0.4.0,>=0.3.0->langchain_experimental) (2.5.0)\n",
      "Requirement already satisfied: certifi>=2017.4.17 in e:\\genai langchain\\venv\\lib\\site-packages (from requests<3,>=2->langchain-community<0.4.0,>=0.3.0->langchain_experimental) (2025.7.14)\n",
      "Requirement already satisfied: greenlet>=1 in e:\\genai langchain\\venv\\lib\\site-packages (from SQLAlchemy<3,>=1.4->langchain-community<0.4.0,>=0.3.0->langchain_experimental) (3.2.3)\n",
      "Requirement already satisfied: mypy-extensions>=0.3.0 in e:\\genai langchain\\venv\\lib\\site-packages (from typing-inspect<1,>=0.4.0->dataclasses-json<0.7,>=0.5.7->langchain-community<0.4.0,>=0.3.0->langchain_experimental) (1.1.0)\n",
      "Requirement already satisfied: httpx<1,>=0.23.0 in e:\\genai langchain\\venv\\lib\\site-packages (from langsmith>=0.1.125->langchain-community<0.4.0,>=0.3.0->langchain_experimental) (0.28.1)\n",
      "Requirement already satisfied: orjson<4.0.0,>=3.9.14 in e:\\genai langchain\\venv\\lib\\site-packages (from langsmith>=0.1.125->langchain-community<0.4.0,>=0.3.0->langchain_experimental) (3.11.0)\n",
      "Requirement already satisfied: requests-toolbelt<2.0.0,>=1.0.0 in e:\\genai langchain\\venv\\lib\\site-packages (from langsmith>=0.1.125->langchain-community<0.4.0,>=0.3.0->langchain_experimental) (1.0.0)\n",
      "Requirement already satisfied: zstandard<0.24.0,>=0.23.0 in e:\\genai langchain\\venv\\lib\\site-packages (from langsmith>=0.1.125->langchain-community<0.4.0,>=0.3.0->langchain_experimental) (0.23.0)\n",
      "Requirement already satisfied: anyio in e:\\genai langchain\\venv\\lib\\site-packages (from httpx<1,>=0.23.0->langsmith>=0.1.125->langchain-community<0.4.0,>=0.3.0->langchain_experimental) (4.9.0)\n",
      "Requirement already satisfied: httpcore==1.* in e:\\genai langchain\\venv\\lib\\site-packages (from httpx<1,>=0.23.0->langsmith>=0.1.125->langchain-community<0.4.0,>=0.3.0->langchain_experimental) (1.0.9)\n",
      "Requirement already satisfied: h11>=0.16 in e:\\genai langchain\\venv\\lib\\site-packages (from httpcore==1.*->httpx<1,>=0.23.0->langsmith>=0.1.125->langchain-community<0.4.0,>=0.3.0->langchain_experimental) (0.16.0)\n",
      "Requirement already satisfied: sniffio>=1.1 in e:\\genai langchain\\venv\\lib\\site-packages (from anyio->httpx<1,>=0.23.0->langsmith>=0.1.125->langchain-community<0.4.0,>=0.3.0->langchain_experimental) (1.3.1)\n",
      "Downloading langchain_experimental-0.3.4-py3-none-any.whl (209 kB)\n",
      "Installing collected packages: langchain_experimental\n",
      "Successfully installed langchain_experimental-0.3.4\n"
     ]
    },
    {
     "name": "stderr",
     "output_type": "stream",
     "text": [
      "e:\\GenAI Langchain\\venv\\Lib\\site-packages\\IPython\\utils\\_process_win32.py:138: ResourceWarning: unclosed file <_io.BufferedWriter name=3>\n",
      "  res = process_handler(cmd, _system_body)\n",
      "ResourceWarning: Enable tracemalloc to get the object allocation traceback\n",
      "e:\\GenAI Langchain\\venv\\Lib\\site-packages\\IPython\\utils\\_process_win32.py:138: ResourceWarning: unclosed file <_io.BufferedReader name=4>\n",
      "  res = process_handler(cmd, _system_body)\n",
      "ResourceWarning: Enable tracemalloc to get the object allocation traceback\n",
      "e:\\GenAI Langchain\\venv\\Lib\\site-packages\\IPython\\utils\\_process_win32.py:138: ResourceWarning: unclosed file <_io.BufferedReader name=5>\n",
      "  res = process_handler(cmd, _system_body)\n",
      "ResourceWarning: Enable tracemalloc to get the object allocation traceback\n"
     ]
    }
   ],
   "source": [
    "!pip install langchain_experimental"
   ]
  },
  {
   "cell_type": "code",
   "execution_count": 13,
   "id": "89b4736c",
   "metadata": {},
   "outputs": [
    {
     "name": "stderr",
     "output_type": "stream",
     "text": [
      "e:\\GenAI Langchain\\venv\\Lib\\site-packages\\langchain_community\\tools\\shell\\tool.py:33: UserWarning: The shell tool has no safeguards by default. Use at your own risk.\n",
      "  warnings.warn(\n"
     ]
    },
    {
     "name": "stdout",
     "output_type": "stream",
     "text": [
      "Executing command:\n",
      " whoami\n",
      "desktop-9vme0kd\\dell\n",
      "\n"
     ]
    }
   ],
   "source": [
    "from langchain_community.tools import ShellTool\n",
    "\n",
    "shell_tool = ShellTool()\n",
    "\n",
    "result = shell_tool.invoke('whoami')\n",
    "\n",
    "print(result)"
   ]
  },
  {
   "cell_type": "markdown",
   "id": "4df5c65f",
   "metadata": {},
   "source": [
    "# Custom Tools"
   ]
  },
  {
   "cell_type": "code",
   "execution_count": 16,
   "id": "405188cc",
   "metadata": {},
   "outputs": [],
   "source": [
    "from langchain_core.tools import tool"
   ]
  },
  {
   "cell_type": "code",
   "execution_count": 18,
   "id": "8ec9424b",
   "metadata": {},
   "outputs": [],
   "source": [
    "@tool\n",
    "def multiply(a: int, b:int)->int:\n",
    "    \"\"\"Multiply two numbers\"\"\"\n",
    "    return a*b"
   ]
  },
  {
   "cell_type": "code",
   "execution_count": 19,
   "id": "87574103",
   "metadata": {},
   "outputs": [
    {
     "data": {
      "text/plain": [
       "40"
      ]
     },
     "execution_count": 19,
     "metadata": {},
     "output_type": "execute_result"
    }
   ],
   "source": [
    "result = multiply.invoke({\"a\":5,\"b\":8})   # tool--> runnable --> invoke func.\n",
    "result"
   ]
  },
  {
   "cell_type": "code",
   "execution_count": 21,
   "id": "4394493d",
   "metadata": {},
   "outputs": [
    {
     "name": "stdout",
     "output_type": "stream",
     "text": [
      "multiply\n",
      "Multiply two numbers\n",
      "{'a': {'title': 'A', 'type': 'integer'}, 'b': {'title': 'B', 'type': 'integer'}}\n"
     ]
    }
   ],
   "source": [
    "print(multiply.name)\n",
    "print(multiply.description)\n",
    "print(multiply.args)"
   ]
  },
  {
   "cell_type": "code",
   "execution_count": 22,
   "id": "e9556b53",
   "metadata": {},
   "outputs": [
    {
     "name": "stdout",
     "output_type": "stream",
     "text": [
      "{'description': 'Multiply two numbers', 'properties': {'a': {'title': 'A', 'type': 'integer'}, 'b': {'title': 'B', 'type': 'integer'}}, 'required': ['a', 'b'], 'title': 'multiply', 'type': 'object'}\n"
     ]
    }
   ],
   "source": [
    "print(multiply.args_schema.model_json_schema())"
   ]
  },
  {
   "cell_type": "markdown",
   "id": "e46b2d36",
   "metadata": {},
   "source": [
    "# Method 2 - Using structured tool & pydantic"
   ]
  },
  {
   "cell_type": "code",
   "execution_count": 23,
   "id": "95ac23da",
   "metadata": {},
   "outputs": [],
   "source": [
    "from langchain.tools import StructuredTool\n",
    "from pydantic import BaseModel, Field"
   ]
  },
  {
   "cell_type": "code",
   "execution_count": 24,
   "id": "d93ed17a",
   "metadata": {},
   "outputs": [
    {
     "name": "stderr",
     "output_type": "stream",
     "text": [
      "e:\\GenAI Langchain\\venv\\Lib\\site-packages\\pydantic\\fields.py:1093: PydanticDeprecatedSince20: Using extra keyword arguments on `Field` is deprecated and will be removed. Use `json_schema_extra` instead. (Extra keys: 'required'). Deprecated in Pydantic V2.0 to be removed in V3.0. See Pydantic V2 Migration Guide at https://errors.pydantic.dev/2.11/migration/\n",
      "  warn(\n",
      "e:\\GenAI Langchain\\venv\\Lib\\site-packages\\pydantic\\fields.py:1093: PydanticDeprecatedSince20: Using extra keyword arguments on `Field` is deprecated and will be removed. Use `json_schema_extra` instead. (Extra keys: 'required'). Deprecated in Pydantic V2.0 to be removed in V3.0. See Pydantic V2 Migration Guide at https://errors.pydantic.dev/2.11/migration/\n",
      "  warn(\n"
     ]
    }
   ],
   "source": [
    "class MultiplyInputs(BaseModel):\n",
    "    a: int = Field(required=True, description=\"The first number to add\")\n",
    "    b: int = Field(required = True, description=\"The second number to add\")\n",
    "    "
   ]
  },
  {
   "cell_type": "code",
   "execution_count": 25,
   "id": "2713d6fc",
   "metadata": {},
   "outputs": [],
   "source": [
    "def multiply_func(a:int, b:int)->int:\n",
    "    return a*b"
   ]
  },
  {
   "cell_type": "code",
   "execution_count": 26,
   "id": "e84932a6",
   "metadata": {},
   "outputs": [],
   "source": [
    "multiply_tool = StructuredTool.from_function(\n",
    "    func=multiply_func,\n",
    "    name=\"multiply two numbers\",\n",
    "    description=\"Multiply two numbers\",\n",
    "    args_schema=MultiplyInputs\n",
    ")"
   ]
  },
  {
   "cell_type": "code",
   "execution_count": 27,
   "id": "533d467e",
   "metadata": {},
   "outputs": [
    {
     "data": {
      "text/plain": [
       "60"
      ]
     },
     "execution_count": 27,
     "metadata": {},
     "output_type": "execute_result"
    }
   ],
   "source": [
    "result = multiply_tool.invoke({'a':6, 'b':10})\n",
    "result"
   ]
  },
  {
   "cell_type": "code",
   "execution_count": 28,
   "id": "d1816a41",
   "metadata": {},
   "outputs": [
    {
     "name": "stdout",
     "output_type": "stream",
     "text": [
      "multiply two numbers\n"
     ]
    }
   ],
   "source": [
    "print(multiply_tool.name)"
   ]
  },
  {
   "cell_type": "markdown",
   "id": "5bb3b148",
   "metadata": {},
   "source": [
    "# Method 3 - Using BaseTool Class"
   ]
  },
  {
   "cell_type": "code",
   "execution_count": 29,
   "id": "2d4088dd",
   "metadata": {},
   "outputs": [],
   "source": [
    "from langchain.tools import BaseTool\n",
    "from typing import Type"
   ]
  },
  {
   "cell_type": "code",
   "execution_count": 30,
   "id": "1489b91d",
   "metadata": {},
   "outputs": [],
   "source": [
    "# arg schema using pydantic"
   ]
  },
  {
   "cell_type": "code",
   "execution_count": 31,
   "id": "341f5164",
   "metadata": {},
   "outputs": [
    {
     "name": "stderr",
     "output_type": "stream",
     "text": [
      "e:\\GenAI Langchain\\venv\\Lib\\site-packages\\pydantic\\fields.py:1093: PydanticDeprecatedSince20: Using extra keyword arguments on `Field` is deprecated and will be removed. Use `json_schema_extra` instead. (Extra keys: 'required'). Deprecated in Pydantic V2.0 to be removed in V3.0. See Pydantic V2 Migration Guide at https://errors.pydantic.dev/2.11/migration/\n",
      "  warn(\n",
      "e:\\GenAI Langchain\\venv\\Lib\\site-packages\\pydantic\\fields.py:1093: PydanticDeprecatedSince20: Using extra keyword arguments on `Field` is deprecated and will be removed. Use `json_schema_extra` instead. (Extra keys: 'required'). Deprecated in Pydantic V2.0 to be removed in V3.0. See Pydantic V2 Migration Guide at https://errors.pydantic.dev/2.11/migration/\n",
      "  warn(\n"
     ]
    }
   ],
   "source": [
    "class MultiplyInputs(BaseModel):\n",
    "    a: int = Field(required=True, description=\"The first number to add\")\n",
    "    b: int = Field(required = True, description=\"The second number to add\")\n",
    "    "
   ]
  },
  {
   "cell_type": "code",
   "execution_count": 32,
   "id": "55756ce5",
   "metadata": {},
   "outputs": [],
   "source": [
    "class MultiplyTool(BaseTool):\n",
    "    name : str = \"multiply\"\n",
    "    description : str = \"Multiply two numbers\"\n",
    "    \n",
    "    args_schema : Type[BaseModel] = MultiplyInputs\n",
    "    \n",
    "    def _run(self, a:int, b:int)-> int:\n",
    "        return a*b"
   ]
  },
  {
   "cell_type": "code",
   "execution_count": 33,
   "id": "651e3fad",
   "metadata": {},
   "outputs": [],
   "source": [
    "multiply_tool = MultiplyTool()"
   ]
  },
  {
   "cell_type": "code",
   "execution_count": 34,
   "id": "b3e8d4c5",
   "metadata": {},
   "outputs": [
    {
     "data": {
      "text/plain": [
       "18"
      ]
     },
     "execution_count": 34,
     "metadata": {},
     "output_type": "execute_result"
    }
   ],
   "source": [
    "result = multiply_tool.invoke({'a':3,'b':6})\n",
    "result"
   ]
  },
  {
   "cell_type": "code",
   "execution_count": 35,
   "id": "d3532243",
   "metadata": {},
   "outputs": [
    {
     "name": "stdout",
     "output_type": "stream",
     "text": [
      "multiply\n"
     ]
    }
   ],
   "source": [
    "print(multiply_tool.name)"
   ]
  },
  {
   "cell_type": "markdown",
   "id": "9feeb39c",
   "metadata": {},
   "source": [
    "# Toolkit"
   ]
  },
  {
   "cell_type": "code",
   "execution_count": 36,
   "id": "839ccac8",
   "metadata": {},
   "outputs": [],
   "source": [
    "from langchain_core.tools import tool\n",
    "\n",
    "@tool\n",
    "def add(a:int, b:int)->int:\n",
    "    \"\"\"Add two numbers\"\"\"\n",
    "    return a+b\n",
    "\n",
    "@tool\n",
    "def multiply(a:int, b:int)-> int:\n",
    "    \"\"\"Multiply two numbers\"\"\"\n",
    "    return a*b"
   ]
  },
  {
   "cell_type": "code",
   "execution_count": 37,
   "id": "f3da75a4",
   "metadata": {},
   "outputs": [],
   "source": [
    "class MethToolkit:\n",
    "    def get_tools(self):\n",
    "        return [add, multiply]"
   ]
  },
  {
   "cell_type": "code",
   "execution_count": 38,
   "id": "dc8908cf",
   "metadata": {},
   "outputs": [],
   "source": [
    "toolkit = MethToolkit()"
   ]
  },
  {
   "cell_type": "code",
   "execution_count": 39,
   "id": "a02a361c",
   "metadata": {},
   "outputs": [],
   "source": [
    "tools = toolkit.get_tools()"
   ]
  },
  {
   "cell_type": "code",
   "execution_count": 40,
   "id": "16820495",
   "metadata": {},
   "outputs": [
    {
     "data": {
      "text/plain": [
       "[StructuredTool(name='add', description='Add two numbers', args_schema=<class 'langchain_core.utils.pydantic.add'>, func=<function add at 0x00000271D08DE480>),\n",
       " StructuredTool(name='multiply', description='Multiply two numbers', args_schema=<class 'langchain_core.utils.pydantic.multiply'>, func=<function multiply at 0x00000271D08DDA80>)]"
      ]
     },
     "execution_count": 40,
     "metadata": {},
     "output_type": "execute_result"
    }
   ],
   "source": [
    "tools"
   ]
  },
  {
   "cell_type": "code",
   "execution_count": 41,
   "id": "2989d991",
   "metadata": {},
   "outputs": [
    {
     "name": "stdout",
     "output_type": "stream",
     "text": [
      "add => Add two numbers\n",
      "multiply => Multiply two numbers\n"
     ]
    }
   ],
   "source": [
    "for tool in tools:\n",
    "    print(tool.name , \"=>\", tool.description)"
   ]
  },
  {
   "cell_type": "code",
   "execution_count": null,
   "id": "c4833f7d",
   "metadata": {},
   "outputs": [],
   "source": []
  }
 ],
 "metadata": {
  "kernelspec": {
   "display_name": "venv (3.13.1)",
   "language": "python",
   "name": "python3"
  },
  "language_info": {
   "codemirror_mode": {
    "name": "ipython",
    "version": 3
   },
   "file_extension": ".py",
   "mimetype": "text/x-python",
   "name": "python",
   "nbconvert_exporter": "python",
   "pygments_lexer": "ipython3",
   "version": "3.13.1"
  }
 },
 "nbformat": 4,
 "nbformat_minor": 5
}
